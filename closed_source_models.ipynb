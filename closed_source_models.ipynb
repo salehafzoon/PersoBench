{
 "cells": [
  {
   "cell_type": "markdown",
   "metadata": {},
   "source": [
    "# Benchmarking"
   ]
  },
  {
   "cell_type": "code",
   "execution_count": null,
   "metadata": {},
   "outputs": [],
   "source": [
    "# pip install google-genai"
   ]
  },
  {
   "cell_type": "code",
   "execution_count": 1,
   "metadata": {},
   "outputs": [
    {
     "data": {
      "text/plain": [
       "True"
      ]
     },
     "execution_count": 1,
     "metadata": {},
     "output_type": "execute_result"
    }
   ],
   "source": [
    "from dotenv import load_dotenv\n",
    "from tqdm import tqdm\n",
    "import pandas as pd\n",
    "import warnings\n",
    "import logging\n",
    "import os\n",
    "\n",
    "warnings.filterwarnings(\"ignore\")\n",
    "logging.getLogger('transformers').setLevel(logging.ERROR)\n",
    "\n",
    "load_dotenv()"
   ]
  },
  {
   "cell_type": "code",
   "execution_count": 2,
   "metadata": {},
   "outputs": [],
   "source": [
    "Dataset = \"Blended Skill Talk\"             # Synthetic-PersonaChat, Blended Skill Talk, PEC, ConvAI2, FoCus, IT-ConvAI2"
   ]
  },
  {
   "cell_type": "markdown",
   "metadata": {},
   "source": [
    "## Response Generation"
   ]
  },
  {
   "cell_type": "code",
   "execution_count": 3,
   "metadata": {},
   "outputs": [
    {
     "data": {
      "text/html": [
       "<div>\n",
       "<style scoped>\n",
       "    .dataframe tbody tr th:only-of-type {\n",
       "        vertical-align: middle;\n",
       "    }\n",
       "\n",
       "    .dataframe tbody tr th {\n",
       "        vertical-align: top;\n",
       "    }\n",
       "\n",
       "    .dataframe thead th {\n",
       "        text-align: right;\n",
       "    }\n",
       "</style>\n",
       "<table border=\"1\" class=\"dataframe\">\n",
       "  <thead>\n",
       "    <tr style=\"text-align: right;\">\n",
       "      <th></th>\n",
       "      <th>personas</th>\n",
       "      <th>act_response</th>\n",
       "      <th>context</th>\n",
       "    </tr>\n",
       "  </thead>\n",
       "  <tbody>\n",
       "    <tr>\n",
       "      <th>0</th>\n",
       "      <td>[User 1 persona]: ['i hate talking to people.'...</td>\n",
       "      <td>I think it's because in my head, I think every...</td>\n",
       "      <td>User1: Wow, I am never shy. Do you have anxiet...</td>\n",
       "    </tr>\n",
       "    <tr>\n",
       "      <th>1</th>\n",
       "      <td>[User 1 persona]: ['i have three daughters.' '...</td>\n",
       "      <td>What does your turtle eat?  Is it hard to take...</td>\n",
       "      <td>User1: My turtle ran away from me today.\\nUser...</td>\n",
       "    </tr>\n",
       "    <tr>\n",
       "      <th>2</th>\n",
       "      <td>[User 1 persona]: ['i hate the taste of fish.'...</td>\n",
       "      <td>Yeah, kids grow up so quickly</td>\n",
       "      <td>User1: Our son in the Army is taking a leave t...</td>\n",
       "    </tr>\n",
       "    <tr>\n",
       "      <th>3</th>\n",
       "      <td>[User 1 persona]: ['my favorite movie is good ...</td>\n",
       "      <td>Wow, you've done a marathon?  I run a bit, but...</td>\n",
       "      <td>User1: that's awesome , i like running in the ...</td>\n",
       "    </tr>\n",
       "    <tr>\n",
       "      <th>4</th>\n",
       "      <td>[User 1 persona]: ['my hair is black.' 'i like...</td>\n",
       "      <td>I would suggest a fitness place with a rock wa...</td>\n",
       "      <td>User1: Are there different skill levels? \\nUse...</td>\n",
       "    </tr>\n",
       "    <tr>\n",
       "      <th>5</th>\n",
       "      <td>[User 1 persona]: ['my dad works at the mill a...</td>\n",
       "      <td>I'm sure you'll do great. In second grade, tha...</td>\n",
       "      <td>User1: This is the first time I drop my kids o...</td>\n",
       "    </tr>\n",
       "    <tr>\n",
       "      <th>6</th>\n",
       "      <td>[User 1 persona]: [\"i'm going bald.\" 'i ran in...</td>\n",
       "      <td>What do your kids look back at the pictures yo...</td>\n",
       "      <td>User1: I kept all of my kids first day pics ev...</td>\n",
       "    </tr>\n",
       "    <tr>\n",
       "      <th>7</th>\n",
       "      <td>[User 1 persona]: ['i like going to the moves....</td>\n",
       "      <td>I get your feelings, but it's done and you mus...</td>\n",
       "      <td>User1: I fell bad about myself because I voted...</td>\n",
       "    </tr>\n",
       "    <tr>\n",
       "      <th>8</th>\n",
       "      <td>[User 1 persona]: ['i just started working as ...</td>\n",
       "      <td>i've tall boots , that rock whether i like cou...</td>\n",
       "      <td>User1: My brother asked me if I was the one wh...</td>\n",
       "    </tr>\n",
       "    <tr>\n",
       "      <th>9</th>\n",
       "      <td>[User 1 persona]: ['i work in finance.' 'i hat...</td>\n",
       "      <td>Thats cool, most shades of green are named aft...</td>\n",
       "      <td>User1: right on . i visited manhattan last sum...</td>\n",
       "    </tr>\n",
       "  </tbody>\n",
       "</table>\n",
       "</div>"
      ],
      "text/plain": [
       "                                            personas  \\\n",
       "0  [User 1 persona]: ['i hate talking to people.'...   \n",
       "1  [User 1 persona]: ['i have three daughters.' '...   \n",
       "2  [User 1 persona]: ['i hate the taste of fish.'...   \n",
       "3  [User 1 persona]: ['my favorite movie is good ...   \n",
       "4  [User 1 persona]: ['my hair is black.' 'i like...   \n",
       "5  [User 1 persona]: ['my dad works at the mill a...   \n",
       "6  [User 1 persona]: [\"i'm going bald.\" 'i ran in...   \n",
       "7  [User 1 persona]: ['i like going to the moves....   \n",
       "8  [User 1 persona]: ['i just started working as ...   \n",
       "9  [User 1 persona]: ['i work in finance.' 'i hat...   \n",
       "\n",
       "                                        act_response  \\\n",
       "0  I think it's because in my head, I think every...   \n",
       "1  What does your turtle eat?  Is it hard to take...   \n",
       "2                     Yeah, kids grow up so quickly    \n",
       "3  Wow, you've done a marathon?  I run a bit, but...   \n",
       "4  I would suggest a fitness place with a rock wa...   \n",
       "5  I'm sure you'll do great. In second grade, tha...   \n",
       "6  What do your kids look back at the pictures yo...   \n",
       "7  I get your feelings, but it's done and you mus...   \n",
       "8  i've tall boots , that rock whether i like cou...   \n",
       "9  Thats cool, most shades of green are named aft...   \n",
       "\n",
       "                                             context  \n",
       "0  User1: Wow, I am never shy. Do you have anxiet...  \n",
       "1  User1: My turtle ran away from me today.\\nUser...  \n",
       "2  User1: Our son in the Army is taking a leave t...  \n",
       "3  User1: that's awesome , i like running in the ...  \n",
       "4  User1: Are there different skill levels? \\nUse...  \n",
       "5  User1: This is the first time I drop my kids o...  \n",
       "6  User1: I kept all of my kids first day pics ev...  \n",
       "7  User1: I fell bad about myself because I voted...  \n",
       "8  User1: My brother asked me if I was the one wh...  \n",
       "9  User1: right on . i visited manhattan last sum...  "
      ]
     },
     "execution_count": 3,
     "metadata": {},
     "output_type": "execute_result"
    }
   ],
   "source": [
    "# Loading the prompt\n",
    "df = pd.read_csv(f'./Prompts/{Dataset}.csv')\n",
    "\n",
    "df.head(10)"
   ]
  },
  {
   "cell_type": "code",
   "execution_count": 4,
   "metadata": {},
   "outputs": [
    {
     "name": "stdout",
     "output_type": "stream",
     "text": [
      "I will provide you with a conversation context and the personas of the participants, that can be annotated with speaker information.\n",
      "As a participant in this conversation, your task is to generate a personalized response, considering the conversation context and personas.\n",
      "\n",
      "Participant Personas:\n",
      "[User 1 persona]: [\"i'm a mother of 5.\" 'i like all types of music.']\n",
      "\n",
      "Conversation Context:\n",
      "User1: i do not find much time for it . i do not imagine you do either ?\n",
      "User2: i actually like to craft when the kids are at school\n",
      "User1: I think daycares are underrated. They let kids have so much expression and creativity and the employees should be paid more for that.\n",
      "\n",
      "Task Instruction:\n",
      "* Provide an unannotated response.\n",
      "* If only one persona is available, personalize the response accordingly.\n",
      "* If the conversation context is a single query, respond appropriately to the query.\n",
      "\n",
      "Output Format: only give a JSON of the following format:\n",
      "{\n",
      "  \"response\": \"provide the personalized natural language response here.\"\n",
      "}\n",
      "\n"
     ]
    }
   ],
   "source": [
    "# Function to generate a prompt\n",
    "def create_prompt(personas, context, include_cot=True):\n",
    "\n",
    "    prompt = (\n",
    "        \"I will provide you with a conversation context and the personas of the participants, that can be annotated with speaker information.\\n\"\n",
    "        \"As a participant in this conversation, your task is to generate a personalized response, considering the conversation context and personas.\\n\\n\"\n",
    "        \"Participant Personas:\\n\"\n",
    "        f\"{personas}\\n\\n\"\n",
    "        \"Conversation Context:\\n\"\n",
    "        f\"{context}\\n\\n\"\n",
    "        \"Task Instruction:\\n\"\n",
    "        \"* Provide an unannotated response.\\n\"\n",
    "        \"* If only one persona is available, personalize the response accordingly.\\n\"\n",
    "        \"* If the conversation context is a single query, respond appropriately to the query.\\n\"\n",
    "    )\n",
    "    \n",
    "    if include_cot:\n",
    "        prompt += (\n",
    "            \"* Apply Chain of Thought reasoning to reflect on the alignment of your response with the personas.\\n\"\n",
    "        )\n",
    "\n",
    "    prompt += (\n",
    "        \"\\nOutput Format: only give a JSON of the following format:\\n\"\n",
    "        \"{\\n\"\n",
    "    )\n",
    "    \n",
    "    if include_cot:\n",
    "        prompt += (\n",
    "            '  \"reasoning\": \"briefly describe your personalization process (in 110 words or less).\"\\n'\n",
    "        )\n",
    "        \n",
    "    prompt += (\n",
    "        '  \"response\": \"provide the personalized natural language response here.\"\\n'\n",
    "        \"}\\n\"\n",
    "    )\n",
    "\n",
    "    return prompt\n",
    "\n",
    "\n",
    "first_row = df.iloc[204]\n",
    "personas = first_row['personas']\n",
    "context = first_row['context']\n",
    "\n",
    "# Example usage\n",
    "prompt = create_prompt(personas, context, include_cot=False)\n",
    "print(prompt)\n"
   ]
  },
  {
   "cell_type": "markdown",
   "metadata": {},
   "source": [
    "### Gemini"
   ]
  },
  {
   "cell_type": "code",
   "execution_count": 6,
   "metadata": {},
   "outputs": [],
   "source": [
    "g_api = os.getenv(\"GOOGLE_API_KEY\")"
   ]
  },
  {
   "cell_type": "code",
   "execution_count": 7,
   "metadata": {},
   "outputs": [],
   "source": [
    "COT_SETUP = False\n",
    "LLM_name = \"gemini-1.5-pro\"  # gemini-1.5-pro\n",
    "\n",
    "MAX_NEW_TOKEN = 220 if COT_SETUP else 110"
   ]
  },
  {
   "cell_type": "code",
   "execution_count": 8,
   "metadata": {},
   "outputs": [
    {
     "data": {
      "text/plain": [
       "'{\\n  \"response\": \"Between carpool, laundry, and meal prep, it feels like there\\'s no time for anything!  I try to sneak in some music when I can, even if it\\'s just in the car.  It\\'s good to hear you get time to craft.  I used to love cross-stitch.\"\\n}'"
      ]
     },
     "execution_count": 8,
     "metadata": {},
     "output_type": "execute_result"
    }
   ],
   "source": [
    "from google import genai\n",
    "\n",
    "client = genai.Client(api_key=g_api)\n",
    "\n",
    "model = client.models\n",
    "\n",
    "\n",
    "response = model.generate_content(\n",
    "    model= LLM_name, \n",
    "    contents=\"You are a helpful response generator to output JSON.\\n\\n\" + prompt,\n",
    "    config={\n",
    "        \"temperature\": 0,\n",
    "        \"max_output_tokens\": MAX_NEW_TOKEN\n",
    "    }\n",
    ")\n",
    "\n",
    "\n",
    "response_text = response.candidates[0].content.parts[0].text.strip().replace('```json', '').replace('```', '').strip()\n",
    "response_text\n"
   ]
  },
  {
   "cell_type": "code",
   "execution_count": 9,
   "metadata": {},
   "outputs": [
    {
     "data": {
      "text/plain": [
       "{'response': \"Between carpool, laundry, and meal prep, it feels like there's no time for anything!  I try to sneak in some music when I can, even if it's just in the car.  It's good to hear you get time to craft.  I used to love cross-stitch.\"}"
      ]
     },
     "execution_count": 9,
     "metadata": {},
     "output_type": "execute_result"
    }
   ],
   "source": [
    "import json\n",
    "response_data = json.loads(response_text)\n",
    "response_data"
   ]
  },
  {
   "cell_type": "code",
   "execution_count": 10,
   "metadata": {},
   "outputs": [
    {
     "name": "stderr",
     "output_type": "stream",
     "text": [
      "Generating responses:   5%|▍         | 47/980 [02:00<41:56,  2.70s/it]"
     ]
    },
    {
     "name": "stdout",
     "output_type": "stream",
     "text": [
      "[JSON ERROR] Index 46\n"
     ]
    },
    {
     "name": "stderr",
     "output_type": "stream",
     "text": [
      "Generating responses:   5%|▌         | 53/980 [02:55<1:26:34,  5.60s/it]"
     ]
    },
    {
     "name": "stdout",
     "output_type": "stream",
     "text": [
      "[JSON ERROR] Index 52\n"
     ]
    },
    {
     "name": "stderr",
     "output_type": "stream",
     "text": [
      "Generating responses:  13%|█▎        | 131/980 [06:14<34:21,  2.43s/it] "
     ]
    },
    {
     "name": "stdout",
     "output_type": "stream",
     "text": [
      "[JSON ERROR] Index 130\n"
     ]
    },
    {
     "name": "stderr",
     "output_type": "stream",
     "text": [
      "Generating responses:  18%|█▊        | 178/980 [08:23<41:00,  3.07s/it]"
     ]
    },
    {
     "name": "stdout",
     "output_type": "stream",
     "text": [
      "[JSON ERROR] Index 177\n"
     ]
    },
    {
     "name": "stderr",
     "output_type": "stream",
     "text": [
      "Generating responses:  21%|██        | 204/980 [09:36<48:57,  3.78s/it]"
     ]
    },
    {
     "name": "stdout",
     "output_type": "stream",
     "text": [
      "[JSON ERROR] Index 203\n"
     ]
    },
    {
     "name": "stderr",
     "output_type": "stream",
     "text": [
      "Generating responses:  21%|██▏       | 210/980 [09:52<35:41,  2.78s/it]"
     ]
    },
    {
     "name": "stdout",
     "output_type": "stream",
     "text": [
      "[JSON ERROR] Index 209\n"
     ]
    },
    {
     "name": "stderr",
     "output_type": "stream",
     "text": [
      "Generating responses:  28%|██▊       | 276/980 [12:49<35:35,  3.03s/it]"
     ]
    },
    {
     "name": "stdout",
     "output_type": "stream",
     "text": [
      "[JSON ERROR] Index 275\n"
     ]
    },
    {
     "name": "stderr",
     "output_type": "stream",
     "text": [
      "Generating responses:  29%|██▉       | 287/980 [13:17<32:16,  2.79s/it]"
     ]
    },
    {
     "name": "stdout",
     "output_type": "stream",
     "text": [
      "[JSON ERROR] Index 286\n"
     ]
    },
    {
     "name": "stderr",
     "output_type": "stream",
     "text": [
      "Generating responses:  31%|███       | 302/980 [14:00<36:20,  3.22s/it]"
     ]
    },
    {
     "name": "stdout",
     "output_type": "stream",
     "text": [
      "[JSON ERROR] Index 301\n"
     ]
    },
    {
     "name": "stderr",
     "output_type": "stream",
     "text": [
      "Generating responses:  38%|███▊      | 375/980 [17:28<30:17,  3.00s/it]"
     ]
    },
    {
     "name": "stdout",
     "output_type": "stream",
     "text": [
      "[JSON ERROR] Index 374\n"
     ]
    },
    {
     "name": "stderr",
     "output_type": "stream",
     "text": [
      "Generating responses:  41%|████      | 398/980 [18:28<29:21,  3.03s/it]"
     ]
    },
    {
     "name": "stdout",
     "output_type": "stream",
     "text": [
      "[JSON ERROR] Index 397\n"
     ]
    },
    {
     "name": "stderr",
     "output_type": "stream",
     "text": [
      "Generating responses:  50%|████▉     | 487/980 [22:26<22:06,  2.69s/it]"
     ]
    },
    {
     "name": "stdout",
     "output_type": "stream",
     "text": [
      "[JSON ERROR] Index 486\n"
     ]
    },
    {
     "name": "stderr",
     "output_type": "stream",
     "text": [
      "Generating responses:  50%|████▉     | 489/980 [22:33<25:15,  3.09s/it]"
     ]
    },
    {
     "name": "stdout",
     "output_type": "stream",
     "text": [
      "[JSON ERROR] Index 488\n"
     ]
    },
    {
     "name": "stderr",
     "output_type": "stream",
     "text": [
      "Generating responses:  62%|██████▏   | 612/980 [27:44<13:40,  2.23s/it]"
     ]
    },
    {
     "name": "stdout",
     "output_type": "stream",
     "text": [
      "[JSON ERROR] Index 611\n"
     ]
    },
    {
     "name": "stderr",
     "output_type": "stream",
     "text": [
      "Generating responses:  66%|██████▋   | 651/980 [29:22<16:19,  2.98s/it]"
     ]
    },
    {
     "name": "stdout",
     "output_type": "stream",
     "text": [
      "[JSON ERROR] Index 650\n"
     ]
    },
    {
     "name": "stderr",
     "output_type": "stream",
     "text": [
      "Generating responses:  68%|██████▊   | 665/980 [30:01<14:18,  2.73s/it]"
     ]
    },
    {
     "name": "stdout",
     "output_type": "stream",
     "text": [
      "[JSON ERROR] Index 664\n"
     ]
    },
    {
     "name": "stderr",
     "output_type": "stream",
     "text": [
      "Generating responses:  72%|███████▏  | 707/980 [31:48<12:27,  2.74s/it]"
     ]
    },
    {
     "name": "stdout",
     "output_type": "stream",
     "text": [
      "[JSON ERROR] Index 706\n"
     ]
    },
    {
     "name": "stderr",
     "output_type": "stream",
     "text": [
      "Generating responses:  72%|███████▏  | 709/980 [31:53<12:01,  2.66s/it]"
     ]
    },
    {
     "name": "stdout",
     "output_type": "stream",
     "text": [
      "[JSON ERROR] Index 708\n"
     ]
    },
    {
     "name": "stderr",
     "output_type": "stream",
     "text": [
      "Generating responses:  77%|███████▋  | 751/980 [33:46<11:48,  3.09s/it]"
     ]
    },
    {
     "name": "stdout",
     "output_type": "stream",
     "text": [
      "[JSON ERROR] Index 750\n"
     ]
    },
    {
     "name": "stderr",
     "output_type": "stream",
     "text": [
      "Generating responses:  81%|████████  | 794/980 [35:36<09:17,  3.00s/it]"
     ]
    },
    {
     "name": "stdout",
     "output_type": "stream",
     "text": [
      "[JSON ERROR] Index 793\n"
     ]
    },
    {
     "name": "stderr",
     "output_type": "stream",
     "text": [
      "Generating responses:  82%|████████▏ | 800/980 [35:54<09:15,  3.09s/it]"
     ]
    },
    {
     "name": "stdout",
     "output_type": "stream",
     "text": [
      "[JSON ERROR] Index 799\n"
     ]
    },
    {
     "name": "stderr",
     "output_type": "stream",
     "text": [
      "Generating responses:  82%|████████▏ | 801/980 [35:57<08:58,  3.01s/it]"
     ]
    },
    {
     "name": "stdout",
     "output_type": "stream",
     "text": [
      "[JSON ERROR] Index 800\n"
     ]
    },
    {
     "name": "stderr",
     "output_type": "stream",
     "text": [
      "Generating responses:  82%|████████▏ | 806/980 [36:13<09:43,  3.35s/it]"
     ]
    },
    {
     "name": "stdout",
     "output_type": "stream",
     "text": [
      "[JSON ERROR] Index 805\n"
     ]
    },
    {
     "name": "stderr",
     "output_type": "stream",
     "text": [
      "Generating responses:  83%|████████▎ | 809/980 [36:23<09:28,  3.32s/it]"
     ]
    },
    {
     "name": "stdout",
     "output_type": "stream",
     "text": [
      "[JSON ERROR] Index 808\n"
     ]
    },
    {
     "name": "stderr",
     "output_type": "stream",
     "text": [
      "Generating responses:  84%|████████▎ | 819/980 [36:51<08:23,  3.13s/it]"
     ]
    },
    {
     "name": "stdout",
     "output_type": "stream",
     "text": [
      "[JSON ERROR] Index 818\n"
     ]
    },
    {
     "name": "stderr",
     "output_type": "stream",
     "text": [
      "Generating responses:  87%|████████▋ | 856/980 [38:33<06:29,  3.14s/it]"
     ]
    },
    {
     "name": "stdout",
     "output_type": "stream",
     "text": [
      "[JSON ERROR] Index 855\n"
     ]
    },
    {
     "name": "stderr",
     "output_type": "stream",
     "text": [
      "Generating responses:  90%|████████▉ | 879/980 [40:02<07:47,  4.63s/it]"
     ]
    },
    {
     "name": "stdout",
     "output_type": "stream",
     "text": [
      "[JSON ERROR] Index 878\n"
     ]
    },
    {
     "name": "stderr",
     "output_type": "stream",
     "text": [
      "Generating responses:  90%|█████████ | 882/980 [40:11<06:03,  3.70s/it]"
     ]
    },
    {
     "name": "stdout",
     "output_type": "stream",
     "text": [
      "[JSON ERROR] Index 881\n"
     ]
    },
    {
     "name": "stderr",
     "output_type": "stream",
     "text": [
      "Generating responses:  94%|█████████▍| 920/980 [41:53<03:06,  3.11s/it]"
     ]
    },
    {
     "name": "stdout",
     "output_type": "stream",
     "text": [
      "[JSON ERROR] Index 919\n"
     ]
    },
    {
     "name": "stderr",
     "output_type": "stream",
     "text": [
      "Generating responses:  94%|█████████▍| 923/980 [42:02<03:09,  3.32s/it]"
     ]
    },
    {
     "name": "stdout",
     "output_type": "stream",
     "text": [
      "[JSON ERROR] Index 922\n"
     ]
    },
    {
     "name": "stderr",
     "output_type": "stream",
     "text": [
      "Generating responses: 100%|█████████▉| 979/980 [44:53<00:03,  3.12s/it]"
     ]
    },
    {
     "name": "stdout",
     "output_type": "stream",
     "text": [
      "[JSON ERROR] Index 978\n"
     ]
    },
    {
     "name": "stderr",
     "output_type": "stream",
     "text": [
      "Generating responses: 100%|██████████| 980/980 [44:57<00:00,  2.75s/it]\n"
     ]
    }
   ],
   "source": [
    "import time\n",
    "import json\n",
    "import os\n",
    "import pandas as pd\n",
    "from tqdm import tqdm\n",
    "from google import genai\n",
    "\n",
    "client = genai.Client(api_key=g_api)\n",
    "model = client.models\n",
    "\n",
    "gen_responses = []\n",
    "reasoning_responses = []\n",
    "response_times = []\n",
    "\n",
    "# CoT suffix\n",
    "COT_ = \"-COT\" if COT_SETUP else \"\"\n",
    "\n",
    "# Logging setup\n",
    "log_dir = \"./debugging logs\"\n",
    "os.makedirs(log_dir, exist_ok=True)\n",
    "log_file_path = os.path.join(log_dir, f'{Dataset}_{LLM_name}_{COT_}.txt')\n",
    "\n",
    "# Start logging and generation\n",
    "with open(log_file_path, 'w') as log_file:\n",
    "    for index, row in tqdm(df.iterrows(), total=len(df), desc=\"Generating responses\"):\n",
    "        personas = row['personas']\n",
    "        context = row['context']\n",
    "\n",
    "        prompt = create_prompt(personas, context, COT_SETUP)\n",
    "\n",
    "        try:\n",
    "            start_time = time.time()\n",
    "\n",
    "            # Use system + user content format\n",
    "            response = model.generate_content(\n",
    "                model= LLM_name, \n",
    "                contents=\"You are a helpful response generator to output JSON.\\n\\n\" + prompt,\n",
    "                config={\n",
    "                    \"temperature\": 0,\n",
    "                    \"max_output_tokens\": MAX_NEW_TOKEN\n",
    "                }\n",
    "            )\n",
    "\n",
    "            end_time = time.time()\n",
    "            response_time = end_time - start_time\n",
    "            \n",
    "            response_text = response.candidates[0].content.parts[0].text.strip().replace('```json', '').replace('```', '').strip()\n",
    "\n",
    "            # Remove markdown code blocks if present\n",
    "    \n",
    "            try:\n",
    "                response_data = json.loads(response_text)\n",
    "                gen_responses.append(response_data.get('response', ''))\n",
    "\n",
    "                if COT_SETUP:\n",
    "                    reasoning_responses.append(response_data.get('reasoning', ''))\n",
    "                else:\n",
    "                    reasoning_responses.append('')\n",
    "            \n",
    "            except json.JSONDecodeError as e:\n",
    "                error_message = (f\"[JSON ERROR] Index {index} — Failed to parse: {response_text}\\n\"\n",
    "                                 f\"Error: {str(e)}\\n\")\n",
    "                print(f\"[JSON ERROR] Index {index}\")\n",
    "                log_file.write(error_message + \"\\n\")\n",
    "\n",
    "                gen_responses.append(None)\n",
    "                reasoning_responses.append(None)\n",
    "\n",
    "            response_times.append(response_time)\n",
    "\n",
    "        except Exception as e:\n",
    "            error_message = f\"[GENERATION ERROR] Index {index}: {str(e)}\\n\"\n",
    "            print(f\"[JSON ERROR] Index {index}\")\n",
    "            log_file.write(error_message + \"\\n\")\n",
    "            gen_responses.append(None)\n",
    "            reasoning_responses.append(None)\n",
    "            response_times.append(None)\n",
    "\n",
    "# Construct and save final DataFrame\n",
    "if COT_SETUP:\n",
    "    response_df = pd.DataFrame({\n",
    "        'gen_response': gen_responses,\n",
    "        'reasoning': reasoning_responses,\n",
    "        'response_time': response_times\n",
    "    })\n",
    "else:\n",
    "    response_df = pd.DataFrame({\n",
    "        'gen_response': gen_responses,\n",
    "        'response_time': response_times\n",
    "    })\n",
    "\n",
    "# Save using consistent LLM_name-based filename\n",
    "output_dir = f'./Responses/{Dataset}'\n",
    "os.makedirs(output_dir, exist_ok=True)\n",
    "response_df.to_csv(f'{output_dir}/{LLM_name}{COT_}.csv', index=False)"
   ]
  },
  {
   "cell_type": "markdown",
   "metadata": {},
   "source": [
    "### Anthropic"
   ]
  },
  {
   "cell_type": "code",
   "execution_count": null,
   "metadata": {},
   "outputs": [],
   "source": [
    "# pip install anthropic"
   ]
  },
  {
   "cell_type": "code",
   "execution_count": 7,
   "metadata": {},
   "outputs": [],
   "source": [
    "COT_SETUP = False\n",
    "LLM_name = \"claude-sonnet-4-20250514\"\n",
    "\n",
    "MAX_NEW_TOKEN = 220 if COT_SETUP else 110"
   ]
  },
  {
   "cell_type": "code",
   "execution_count": 9,
   "metadata": {},
   "outputs": [
    {
     "name": "stdout",
     "output_type": "stream",
     "text": [
      "[TextBlock(citations=None, text='{\\n  \"reasoning\": \"Based on the personas, I serve in the Army and find forts interesting, which makes me knowledgeable about military installations. I\\'ve never been to NYC but wish to visit it. The user is asking about Fort Hamilton\\'s current defensive status. As someone who serves in the Army and finds forts interesting, I would have knowledge about modern military installations and their purposes. I should provide informative details about Fort Hamilton\\'s current role while expressing my personal interest in visiting it since it\\'s in NYC, a', type='text')]\n"
     ]
    }
   ],
   "source": [
    "import anthropic\n",
    "import os\n",
    "\n",
    "client = anthropic.Anthropic(\n",
    "    api_key= os.environ.get(\"ANTHROPIC_API_KEY\"),\n",
    ")\n",
    "message = client.messages.create(\n",
    "    model= LLM_name,\n",
    "    max_tokens= MAX_NEW_TOKEN,\n",
    "    system=\"You are a helpful response generator to output JSON.\",\n",
    "    \n",
    "    messages=[\n",
    "                {\"role\": \"user\", \"content\": prompt}\n",
    "            ]\n",
    ")\n",
    "print(message.content)"
   ]
  },
  {
   "cell_type": "code",
   "execution_count": 12,
   "metadata": {},
   "outputs": [
    {
     "data": {
      "text/plain": [
       "Message(id='msg_01SLpzvvnUd3khGirSdTW7PX', content=[TextBlock(citations=None, text='{\\n  \"reasoning\": \"Based on the personas, I serve in the Army and find forts interesting, which makes me knowledgeable about military installations. I\\'ve never been to NYC but wish to visit it. The user is asking about Fort Hamilton\\'s current defensive status. As someone who serves in the Army and finds forts interesting, I would have knowledge about modern military installations and their purposes. I should provide informative details about Fort Hamilton\\'s current role while expressing my personal interest in visiting it since it\\'s in NYC, a', type='text')], model='claude-sonnet-4-20250514', role='assistant', stop_reason='max_tokens', stop_sequence=None, type='message', usage=Usage(cache_creation=CacheCreation(ephemeral_1h_input_tokens=0, ephemeral_5m_input_tokens=0), cache_creation_input_tokens=0, cache_read_input_tokens=0, input_tokens=355, output_tokens=110, server_tool_use=None, service_tier='standard'))"
      ]
     },
     "execution_count": 12,
     "metadata": {},
     "output_type": "execute_result"
    }
   ],
   "source": [
    "message"
   ]
  },
  {
   "cell_type": "code",
   "execution_count": 14,
   "metadata": {},
   "outputs": [
    {
     "data": {
      "text/plain": [
       "'{\\n  \"reasoning\": \"Based on the personas, I serve in the Army and find forts interesting, which makes me knowledgeable about military installations. I\\'ve never been to NYC but wish to visit it. The user is asking about Fort Hamilton\\'s current defensive status. As someone who serves in the Army and finds forts interesting, I would have knowledge about modern military installations and their purposes. I should provide informative details about Fort Hamilton\\'s current role while expressing my personal interest in visiting it since it\\'s in NYC, a'"
      ]
     },
     "execution_count": 14,
     "metadata": {},
     "output_type": "execute_result"
    }
   ],
   "source": [
    "message.content[0].text"
   ]
  },
  {
   "cell_type": "code",
   "execution_count": null,
   "metadata": {},
   "outputs": [
    {
     "name": "stderr",
     "output_type": "stream",
     "text": [
      "Generating responses:   0%|          | 1/1000 [00:03<1:05:10,  3.91s/it]"
     ]
    },
    {
     "name": "stdout",
     "output_type": "stream",
     "text": [
      "[JSON ERROR] Index 0 — Failed to parse: {\n",
      "  \"reasoning\": \"Based on the personas, I serve in the Army and find forts interesting, which makes me knowledgeable about military installations. I've never been to NYC but wish to visit it. The user is asking about Fort Hamilton's current defensive status. As someone who serves in the Army and finds forts interesting, I would have knowledge about modern military installations and their purposes. I should provide informative details about Fort Hamilton's current role while expressing my personal interest in visiting it since it's in NYC, a\n",
      "Error: Unterminated string starting at: line 2 column 16 (char 17)\n",
      "\n"
     ]
    },
    {
     "name": "stderr",
     "output_type": "stream",
     "text": [
      "Generating responses:   0%|          | 2/1000 [00:07<1:05:20,  3.93s/it]"
     ]
    },
    {
     "name": "stdout",
     "output_type": "stream",
     "text": [
      "[JSON ERROR] Index 1 — Failed to parse: {\n",
      "  \"reasoning\": \"Based on the personas, I serve in the Army and find forts interesting, which makes me knowledgeable about military installations. I've never been to NYC but wish to visit it. The user is asking about Fort Hamilton's current defensive status. As someone who serves in the Army and finds forts interesting, I would have knowledge about modern military installations and their purposes. I should provide informative details about Fort Hamilton's current role while expressing my personal interest in visiting it since it's in NYC, a\n",
      "Error: Unterminated string starting at: line 2 column 16 (char 17)\n",
      "\n"
     ]
    },
    {
     "name": "stderr",
     "output_type": "stream",
     "text": [
      "Generating responses:   0%|          | 3/1000 [00:12<1:14:08,  4.46s/it]"
     ]
    },
    {
     "name": "stdout",
     "output_type": "stream",
     "text": [
      "[JSON ERROR] Index 2 — Failed to parse: {\n",
      "  \"reasoning\": \"Based on the personas, I serve in the Army and find forts interesting, which makes me knowledgeable about military installations. I've never been to NYC but wish to visit it. The user is asking about Fort Hamilton's current defensive status. As someone who serves in the Army and finds forts interesting, I would have knowledge about modern military installations and their purposes. I should provide informative details about Fort Hamilton's current role while expressing my personal interest in visiting it since it's in NYC, a\n",
      "Error: Unterminated string starting at: line 2 column 16 (char 17)\n",
      "\n"
     ]
    },
    {
     "name": "stderr",
     "output_type": "stream",
     "text": [
      "Generating responses:   0%|          | 4/1000 [00:17<1:15:25,  4.54s/it]"
     ]
    },
    {
     "name": "stdout",
     "output_type": "stream",
     "text": [
      "[JSON ERROR] Index 3 — Failed to parse: {\n",
      "  \"reasoning\": \"Based on the personas, I serve in the Army and find forts interesting, which makes me knowledgeable about military installations. I've never been to NYC but wish to visit it. The user is asking about Fort Hamilton's current defensive status. As someone who serves in the Army and finds forts interesting, I would have knowledge about modern military installations and their purposes. I should provide informative details about Fort Hamilton's current role while expressing my personal interest in visiting it since it's in NYC, a\n",
      "Error: Unterminated string starting at: line 2 column 16 (char 17)\n",
      "\n"
     ]
    },
    {
     "name": "stderr",
     "output_type": "stream",
     "text": [
      "Generating responses:   0%|          | 5/1000 [00:21<1:13:00,  4.40s/it]"
     ]
    },
    {
     "name": "stdout",
     "output_type": "stream",
     "text": [
      "[JSON ERROR] Index 4 — Failed to parse: {\n",
      "  \"reasoning\": \"Based on the personas, I serve in the Army and find forts interesting, which makes me knowledgeable about military installations. I've never been to NYC but wish to visit it. The user is asking about Fort Hamilton's current defensive status. As someone who serves in the Army and finds forts interesting, I would have knowledge about modern military installations and their purposes. I should provide informative details about Fort Hamilton's current role while expressing my personal interest in visiting it since it's in NYC, a\n",
      "Error: Unterminated string starting at: line 2 column 16 (char 17)\n",
      "\n"
     ]
    },
    {
     "name": "stderr",
     "output_type": "stream",
     "text": [
      "Generating responses:   1%|          | 6/1000 [00:26<1:12:27,  4.37s/it]"
     ]
    },
    {
     "name": "stdout",
     "output_type": "stream",
     "text": [
      "[JSON ERROR] Index 5 — Failed to parse: {\n",
      "  \"reasoning\": \"Based on the personas, I serve in the Army and find forts interesting, which makes me knowledgeable about military installations. I've never been to NYC but wish to visit it. The user is asking about Fort Hamilton's current defensive status. As someone who serves in the Army and finds forts interesting, I would have knowledge about modern military installations and their purposes. I should provide informative details about Fort Hamilton's current role while expressing my personal interest in visiting it since it's in NYC, a\n",
      "Error: Unterminated string starting at: line 2 column 16 (char 17)\n",
      "\n"
     ]
    },
    {
     "name": "stderr",
     "output_type": "stream",
     "text": [
      "Generating responses:   1%|          | 7/1000 [00:31<1:17:44,  4.70s/it]"
     ]
    },
    {
     "name": "stdout",
     "output_type": "stream",
     "text": [
      "[JSON ERROR] Index 6 — Failed to parse: {\n",
      "  \"reasoning\": \"Based on the personas, I serve in the Army and find forts interesting, which makes me knowledgeable about military installations. I've never been to NYC but wish to visit it. The user is asking about Fort Hamilton's current defensive status. As someone who serves in the Army and finds forts interesting, I would have knowledge about modern military installations and their purposes. I should provide informative details about Fort Hamilton's current role while expressing my personal interest in visiting it since it's in NYC, a\n",
      "Error: Unterminated string starting at: line 2 column 16 (char 17)\n",
      "\n"
     ]
    },
    {
     "name": "stderr",
     "output_type": "stream",
     "text": [
      "Generating responses:   1%|          | 8/1000 [00:35<1:15:34,  4.57s/it]"
     ]
    },
    {
     "name": "stdout",
     "output_type": "stream",
     "text": [
      "[JSON ERROR] Index 7 — Failed to parse: {\n",
      "  \"reasoning\": \"Based on the personas, I serve in the Army and find forts interesting, which makes me knowledgeable about military installations. I've never been to NYC but wish to visit it. The user is asking about Fort Hamilton's current defensive status. As someone who serves in the Army and finds forts interesting, I would have knowledge about modern military installations and their purposes. I should provide informative details about Fort Hamilton's current role while expressing my personal interest in visiting it since it's in NYC, a\n",
      "Error: Unterminated string starting at: line 2 column 16 (char 17)\n",
      "\n"
     ]
    },
    {
     "name": "stderr",
     "output_type": "stream",
     "text": [
      "Generating responses:   1%|          | 9/1000 [00:39<1:13:29,  4.45s/it]"
     ]
    },
    {
     "name": "stdout",
     "output_type": "stream",
     "text": [
      "[JSON ERROR] Index 8 — Failed to parse: {\n",
      "  \"reasoning\": \"Based on the personas, I serve in the Army and find forts interesting, which makes me knowledgeable about military installations. I've never been to NYC but wish to visit it. The user is asking about Fort Hamilton's current defensive status. As someone who serves in the Army and finds forts interesting, I would have knowledge about modern military installations and their purposes. I should provide informative details about Fort Hamilton's current role while expressing my personal interest in visiting it since it's in NYC, a\n",
      "Error: Unterminated string starting at: line 2 column 16 (char 17)\n",
      "\n"
     ]
    },
    {
     "name": "stderr",
     "output_type": "stream",
     "text": [
      "Generating responses:   1%|          | 10/1000 [00:44<1:14:09,  4.49s/it]"
     ]
    },
    {
     "name": "stdout",
     "output_type": "stream",
     "text": [
      "[JSON ERROR] Index 9 — Failed to parse: {\n",
      "  \"reasoning\": \"Based on the personas, I serve in the Army and find forts interesting, which makes me knowledgeable about military installations. I've never been to NYC but wish to visit it. The user is asking about Fort Hamilton's current defensive status. As someone who serves in the Army and finds forts interesting, I would have knowledge about modern military installations and their purposes. I should provide informative details about Fort Hamilton's current role while expressing my personal interest in visiting it since it's in NYC, a\n",
      "Error: Unterminated string starting at: line 2 column 16 (char 17)\n",
      "\n"
     ]
    },
    {
     "name": "stderr",
     "output_type": "stream",
     "text": [
      "Generating responses:   1%|          | 11/1000 [00:49<1:14:37,  4.53s/it]"
     ]
    },
    {
     "name": "stdout",
     "output_type": "stream",
     "text": [
      "[JSON ERROR] Index 10 — Failed to parse: {\n",
      "  \"reasoning\": \"Based on the personas, I serve in the Army and find forts interesting, which makes me knowledgeable about military installations. I've never been to NYC but wish to visit it. The user is asking about Fort Hamilton's current defensive status. As someone who serves in the Army and finds forts interesting, I would have knowledge about modern military installations and their purposes. I should provide informative details about Fort Hamilton's current role while expressing my personal interest in visiting it since it's in NYC, a\n",
      "Error: Unterminated string starting at: line 2 column 16 (char 17)\n",
      "\n"
     ]
    },
    {
     "name": "stderr",
     "output_type": "stream",
     "text": [
      "Generating responses:   1%|          | 12/1000 [00:53<1:13:54,  4.49s/it]"
     ]
    },
    {
     "name": "stdout",
     "output_type": "stream",
     "text": [
      "[JSON ERROR] Index 11 — Failed to parse: {\n",
      "  \"reasoning\": \"Based on the personas, I serve in the Army and find forts interesting, which makes me knowledgeable about military installations. I've never been to NYC but wish to visit it. The user is asking about Fort Hamilton's current defensive status. As someone who serves in the Army and finds forts interesting, I would have knowledge about modern military installations and their purposes. I should provide informative details about Fort Hamilton's current role while expressing my personal interest in visiting it since it's in NYC, a\n",
      "Error: Unterminated string starting at: line 2 column 16 (char 17)\n",
      "\n"
     ]
    },
    {
     "name": "stderr",
     "output_type": "stream",
     "text": [
      "Generating responses:   1%|▏         | 13/1000 [00:57<1:12:37,  4.41s/it]"
     ]
    },
    {
     "name": "stdout",
     "output_type": "stream",
     "text": [
      "[JSON ERROR] Index 12 — Failed to parse: {\n",
      "  \"reasoning\": \"Based on the personas, I serve in the Army and find forts interesting, which makes me knowledgeable about military installations. I've never been to NYC but wish to visit it. The user is asking about Fort Hamilton's current defensive status. As someone who serves in the Army and finds forts interesting, I would have knowledge about modern military installations and their purposes. I should provide informative details about Fort Hamilton's current role while expressing my personal interest in visiting it since it's in NYC, a\n",
      "Error: Unterminated string starting at: line 2 column 16 (char 17)\n",
      "\n"
     ]
    },
    {
     "name": "stderr",
     "output_type": "stream",
     "text": [
      "Generating responses:   1%|▏         | 13/1000 [01:00<1:16:05,  4.63s/it]\n"
     ]
    },
    {
     "ename": "KeyboardInterrupt",
     "evalue": "",
     "output_type": "error",
     "traceback": [
      "\u001b[31m---------------------------------------------------------------------------\u001b[39m",
      "\u001b[31mKeyboardInterrupt\u001b[39m                         Traceback (most recent call last)",
      "\u001b[36mCell\u001b[39m\u001b[36m \u001b[39m\u001b[32mIn[15]\u001b[39m\u001b[32m, line 45\u001b[39m\n\u001b[32m     33\u001b[39m start_time = time.time()\n\u001b[32m     35\u001b[39m \u001b[38;5;66;03m# # Use system + user content format\u001b[39;00m\n\u001b[32m     36\u001b[39m \u001b[38;5;66;03m# response = model.generate_content(\u001b[39;00m\n\u001b[32m     37\u001b[39m \u001b[38;5;66;03m#     model= LLM_name, \u001b[39;00m\n\u001b[32m   (...)\u001b[39m\u001b[32m     42\u001b[39m \u001b[38;5;66;03m#     }\u001b[39;00m\n\u001b[32m     43\u001b[39m \u001b[38;5;66;03m# )\u001b[39;00m\n\u001b[32m---> \u001b[39m\u001b[32m45\u001b[39m response = \u001b[43mclient\u001b[49m\u001b[43m.\u001b[49m\u001b[43mmessages\u001b[49m\u001b[43m.\u001b[49m\u001b[43mcreate\u001b[49m\u001b[43m(\u001b[49m\n\u001b[32m     46\u001b[39m \u001b[43m    \u001b[49m\u001b[43mmodel\u001b[49m\u001b[43m=\u001b[49m\u001b[43m \u001b[49m\u001b[43mLLM_name\u001b[49m\u001b[43m,\u001b[49m\n\u001b[32m     47\u001b[39m \u001b[43m    \u001b[49m\u001b[43mtemperature\u001b[49m\u001b[43m=\u001b[49m\u001b[32;43m0\u001b[39;49m\u001b[43m,\u001b[49m\n\u001b[32m     48\u001b[39m \u001b[43m    \u001b[49m\u001b[43mmax_tokens\u001b[49m\u001b[43m=\u001b[49m\u001b[43m \u001b[49m\u001b[43mMAX_NEW_TOKEN\u001b[49m\u001b[43m,\u001b[49m\n\u001b[32m     49\u001b[39m \u001b[43m    \u001b[49m\u001b[43msystem\u001b[49m\u001b[43m=\u001b[49m\u001b[33;43m\"\u001b[39;49m\u001b[33;43mYou are a helpful response generator to output JSON.\u001b[39;49m\u001b[33;43m\"\u001b[39;49m\u001b[43m,\u001b[49m\n\u001b[32m     50\u001b[39m \n\u001b[32m     51\u001b[39m \u001b[43m    \u001b[49m\u001b[43mmessages\u001b[49m\u001b[43m=\u001b[49m\u001b[43m[\u001b[49m\n\u001b[32m     52\u001b[39m \u001b[43m                \u001b[49m\u001b[43m{\u001b[49m\u001b[33;43m\"\u001b[39;49m\u001b[33;43mrole\u001b[39;49m\u001b[33;43m\"\u001b[39;49m\u001b[43m:\u001b[49m\u001b[43m \u001b[49m\u001b[33;43m\"\u001b[39;49m\u001b[33;43muser\u001b[39;49m\u001b[33;43m\"\u001b[39;49m\u001b[43m,\u001b[49m\u001b[43m \u001b[49m\u001b[33;43m\"\u001b[39;49m\u001b[33;43mcontent\u001b[39;49m\u001b[33;43m\"\u001b[39;49m\u001b[43m:\u001b[49m\u001b[43m \u001b[49m\u001b[43mprompt\u001b[49m\u001b[43m}\u001b[49m\n\u001b[32m     53\u001b[39m \u001b[43m            \u001b[49m\u001b[43m]\u001b[49m\n\u001b[32m     54\u001b[39m \u001b[43m\u001b[49m\u001b[43m)\u001b[49m\n\u001b[32m     56\u001b[39m end_time = time.time()\n\u001b[32m     57\u001b[39m response_time = end_time - start_time\n",
      "\u001b[36mFile \u001b[39m\u001b[32m~/.conda/envs/persoagent/lib/python3.11/site-packages/anthropic/_utils/_utils.py:283\u001b[39m, in \u001b[36mrequired_args.<locals>.inner.<locals>.wrapper\u001b[39m\u001b[34m(*args, **kwargs)\u001b[39m\n\u001b[32m    281\u001b[39m             msg = \u001b[33mf\u001b[39m\u001b[33m\"\u001b[39m\u001b[33mMissing required argument: \u001b[39m\u001b[38;5;132;01m{\u001b[39;00mquote(missing[\u001b[32m0\u001b[39m])\u001b[38;5;132;01m}\u001b[39;00m\u001b[33m\"\u001b[39m\n\u001b[32m    282\u001b[39m     \u001b[38;5;28;01mraise\u001b[39;00m \u001b[38;5;167;01mTypeError\u001b[39;00m(msg)\n\u001b[32m--> \u001b[39m\u001b[32m283\u001b[39m \u001b[38;5;28;01mreturn\u001b[39;00m \u001b[43mfunc\u001b[49m\u001b[43m(\u001b[49m\u001b[43m*\u001b[49m\u001b[43margs\u001b[49m\u001b[43m,\u001b[49m\u001b[43m \u001b[49m\u001b[43m*\u001b[49m\u001b[43m*\u001b[49m\u001b[43mkwargs\u001b[49m\u001b[43m)\u001b[49m\n",
      "\u001b[36mFile \u001b[39m\u001b[32m~/.conda/envs/persoagent/lib/python3.11/site-packages/anthropic/resources/messages/messages.py:930\u001b[39m, in \u001b[36mMessages.create\u001b[39m\u001b[34m(self, max_tokens, messages, model, metadata, service_tier, stop_sequences, stream, system, temperature, thinking, tool_choice, tools, top_k, top_p, extra_headers, extra_query, extra_body, timeout)\u001b[39m\n\u001b[32m    923\u001b[39m \u001b[38;5;28;01mif\u001b[39;00m model \u001b[38;5;129;01min\u001b[39;00m DEPRECATED_MODELS:\n\u001b[32m    924\u001b[39m     warnings.warn(\n\u001b[32m    925\u001b[39m         \u001b[33mf\u001b[39m\u001b[33m\"\u001b[39m\u001b[33mThe model \u001b[39m\u001b[33m'\u001b[39m\u001b[38;5;132;01m{\u001b[39;00mmodel\u001b[38;5;132;01m}\u001b[39;00m\u001b[33m'\u001b[39m\u001b[33m is deprecated and will reach end-of-life on \u001b[39m\u001b[38;5;132;01m{\u001b[39;00mDEPRECATED_MODELS[model]\u001b[38;5;132;01m}\u001b[39;00m\u001b[33m.\u001b[39m\u001b[38;5;130;01m\\n\u001b[39;00m\u001b[33mPlease migrate to a newer model. Visit https://docs.anthropic.com/en/docs/resources/model-deprecations for more information.\u001b[39m\u001b[33m\"\u001b[39m,\n\u001b[32m    926\u001b[39m         \u001b[38;5;167;01mDeprecationWarning\u001b[39;00m,\n\u001b[32m    927\u001b[39m         stacklevel=\u001b[32m3\u001b[39m,\n\u001b[32m    928\u001b[39m     )\n\u001b[32m--> \u001b[39m\u001b[32m930\u001b[39m \u001b[38;5;28;01mreturn\u001b[39;00m \u001b[38;5;28;43mself\u001b[39;49m\u001b[43m.\u001b[49m\u001b[43m_post\u001b[49m\u001b[43m(\u001b[49m\n\u001b[32m    931\u001b[39m \u001b[43m    \u001b[49m\u001b[33;43m\"\u001b[39;49m\u001b[33;43m/v1/messages\u001b[39;49m\u001b[33;43m\"\u001b[39;49m\u001b[43m,\u001b[49m\n\u001b[32m    932\u001b[39m \u001b[43m    \u001b[49m\u001b[43mbody\u001b[49m\u001b[43m=\u001b[49m\u001b[43mmaybe_transform\u001b[49m\u001b[43m(\u001b[49m\n\u001b[32m    933\u001b[39m \u001b[43m        \u001b[49m\u001b[43m{\u001b[49m\n\u001b[32m    934\u001b[39m \u001b[43m            \u001b[49m\u001b[33;43m\"\u001b[39;49m\u001b[33;43mmax_tokens\u001b[39;49m\u001b[33;43m\"\u001b[39;49m\u001b[43m:\u001b[49m\u001b[43m \u001b[49m\u001b[43mmax_tokens\u001b[49m\u001b[43m,\u001b[49m\n\u001b[32m    935\u001b[39m \u001b[43m            \u001b[49m\u001b[33;43m\"\u001b[39;49m\u001b[33;43mmessages\u001b[39;49m\u001b[33;43m\"\u001b[39;49m\u001b[43m:\u001b[49m\u001b[43m \u001b[49m\u001b[43mmessages\u001b[49m\u001b[43m,\u001b[49m\n\u001b[32m    936\u001b[39m \u001b[43m            \u001b[49m\u001b[33;43m\"\u001b[39;49m\u001b[33;43mmodel\u001b[39;49m\u001b[33;43m\"\u001b[39;49m\u001b[43m:\u001b[49m\u001b[43m \u001b[49m\u001b[43mmodel\u001b[49m\u001b[43m,\u001b[49m\n\u001b[32m    937\u001b[39m \u001b[43m            \u001b[49m\u001b[33;43m\"\u001b[39;49m\u001b[33;43mmetadata\u001b[39;49m\u001b[33;43m\"\u001b[39;49m\u001b[43m:\u001b[49m\u001b[43m \u001b[49m\u001b[43mmetadata\u001b[49m\u001b[43m,\u001b[49m\n\u001b[32m    938\u001b[39m \u001b[43m            \u001b[49m\u001b[33;43m\"\u001b[39;49m\u001b[33;43mservice_tier\u001b[39;49m\u001b[33;43m\"\u001b[39;49m\u001b[43m:\u001b[49m\u001b[43m \u001b[49m\u001b[43mservice_tier\u001b[49m\u001b[43m,\u001b[49m\n\u001b[32m    939\u001b[39m \u001b[43m            \u001b[49m\u001b[33;43m\"\u001b[39;49m\u001b[33;43mstop_sequences\u001b[39;49m\u001b[33;43m\"\u001b[39;49m\u001b[43m:\u001b[49m\u001b[43m \u001b[49m\u001b[43mstop_sequences\u001b[49m\u001b[43m,\u001b[49m\n\u001b[32m    940\u001b[39m \u001b[43m            \u001b[49m\u001b[33;43m\"\u001b[39;49m\u001b[33;43mstream\u001b[39;49m\u001b[33;43m\"\u001b[39;49m\u001b[43m:\u001b[49m\u001b[43m \u001b[49m\u001b[43mstream\u001b[49m\u001b[43m,\u001b[49m\n\u001b[32m    941\u001b[39m \u001b[43m            \u001b[49m\u001b[33;43m\"\u001b[39;49m\u001b[33;43msystem\u001b[39;49m\u001b[33;43m\"\u001b[39;49m\u001b[43m:\u001b[49m\u001b[43m \u001b[49m\u001b[43msystem\u001b[49m\u001b[43m,\u001b[49m\n\u001b[32m    942\u001b[39m \u001b[43m            \u001b[49m\u001b[33;43m\"\u001b[39;49m\u001b[33;43mtemperature\u001b[39;49m\u001b[33;43m\"\u001b[39;49m\u001b[43m:\u001b[49m\u001b[43m \u001b[49m\u001b[43mtemperature\u001b[49m\u001b[43m,\u001b[49m\n\u001b[32m    943\u001b[39m \u001b[43m            \u001b[49m\u001b[33;43m\"\u001b[39;49m\u001b[33;43mthinking\u001b[39;49m\u001b[33;43m\"\u001b[39;49m\u001b[43m:\u001b[49m\u001b[43m \u001b[49m\u001b[43mthinking\u001b[49m\u001b[43m,\u001b[49m\n\u001b[32m    944\u001b[39m \u001b[43m            \u001b[49m\u001b[33;43m\"\u001b[39;49m\u001b[33;43mtool_choice\u001b[39;49m\u001b[33;43m\"\u001b[39;49m\u001b[43m:\u001b[49m\u001b[43m \u001b[49m\u001b[43mtool_choice\u001b[49m\u001b[43m,\u001b[49m\n\u001b[32m    945\u001b[39m \u001b[43m            \u001b[49m\u001b[33;43m\"\u001b[39;49m\u001b[33;43mtools\u001b[39;49m\u001b[33;43m\"\u001b[39;49m\u001b[43m:\u001b[49m\u001b[43m \u001b[49m\u001b[43mtools\u001b[49m\u001b[43m,\u001b[49m\n\u001b[32m    946\u001b[39m \u001b[43m            \u001b[49m\u001b[33;43m\"\u001b[39;49m\u001b[33;43mtop_k\u001b[39;49m\u001b[33;43m\"\u001b[39;49m\u001b[43m:\u001b[49m\u001b[43m \u001b[49m\u001b[43mtop_k\u001b[49m\u001b[43m,\u001b[49m\n\u001b[32m    947\u001b[39m \u001b[43m            \u001b[49m\u001b[33;43m\"\u001b[39;49m\u001b[33;43mtop_p\u001b[39;49m\u001b[33;43m\"\u001b[39;49m\u001b[43m:\u001b[49m\u001b[43m \u001b[49m\u001b[43mtop_p\u001b[49m\u001b[43m,\u001b[49m\n\u001b[32m    948\u001b[39m \u001b[43m        \u001b[49m\u001b[43m}\u001b[49m\u001b[43m,\u001b[49m\n\u001b[32m    949\u001b[39m \u001b[43m        \u001b[49m\u001b[43mmessage_create_params\u001b[49m\u001b[43m.\u001b[49m\u001b[43mMessageCreateParamsStreaming\u001b[49m\n\u001b[32m    950\u001b[39m \u001b[43m        \u001b[49m\u001b[38;5;28;43;01mif\u001b[39;49;00m\u001b[43m \u001b[49m\u001b[43mstream\u001b[49m\n\u001b[32m    951\u001b[39m \u001b[43m        \u001b[49m\u001b[38;5;28;43;01melse\u001b[39;49;00m\u001b[43m \u001b[49m\u001b[43mmessage_create_params\u001b[49m\u001b[43m.\u001b[49m\u001b[43mMessageCreateParamsNonStreaming\u001b[49m\u001b[43m,\u001b[49m\n\u001b[32m    952\u001b[39m \u001b[43m    \u001b[49m\u001b[43m)\u001b[49m\u001b[43m,\u001b[49m\n\u001b[32m    953\u001b[39m \u001b[43m    \u001b[49m\u001b[43moptions\u001b[49m\u001b[43m=\u001b[49m\u001b[43mmake_request_options\u001b[49m\u001b[43m(\u001b[49m\n\u001b[32m    954\u001b[39m \u001b[43m        \u001b[49m\u001b[43mextra_headers\u001b[49m\u001b[43m=\u001b[49m\u001b[43mextra_headers\u001b[49m\u001b[43m,\u001b[49m\u001b[43m \u001b[49m\u001b[43mextra_query\u001b[49m\u001b[43m=\u001b[49m\u001b[43mextra_query\u001b[49m\u001b[43m,\u001b[49m\u001b[43m \u001b[49m\u001b[43mextra_body\u001b[49m\u001b[43m=\u001b[49m\u001b[43mextra_body\u001b[49m\u001b[43m,\u001b[49m\u001b[43m \u001b[49m\u001b[43mtimeout\u001b[49m\u001b[43m=\u001b[49m\u001b[43mtimeout\u001b[49m\n\u001b[32m    955\u001b[39m \u001b[43m    \u001b[49m\u001b[43m)\u001b[49m\u001b[43m,\u001b[49m\n\u001b[32m    956\u001b[39m \u001b[43m    \u001b[49m\u001b[43mcast_to\u001b[49m\u001b[43m=\u001b[49m\u001b[43mMessage\u001b[49m\u001b[43m,\u001b[49m\n\u001b[32m    957\u001b[39m \u001b[43m    \u001b[49m\u001b[43mstream\u001b[49m\u001b[43m=\u001b[49m\u001b[43mstream\u001b[49m\u001b[43m \u001b[49m\u001b[38;5;129;43;01mor\u001b[39;49;00m\u001b[43m \u001b[49m\u001b[38;5;28;43;01mFalse\u001b[39;49;00m\u001b[43m,\u001b[49m\n\u001b[32m    958\u001b[39m \u001b[43m    \u001b[49m\u001b[43mstream_cls\u001b[49m\u001b[43m=\u001b[49m\u001b[43mStream\u001b[49m\u001b[43m[\u001b[49m\u001b[43mRawMessageStreamEvent\u001b[49m\u001b[43m]\u001b[49m\u001b[43m,\u001b[49m\n\u001b[32m    959\u001b[39m \u001b[43m\u001b[49m\u001b[43m)\u001b[49m\n",
      "\u001b[36mFile \u001b[39m\u001b[32m~/.conda/envs/persoagent/lib/python3.11/site-packages/anthropic/_base_client.py:1324\u001b[39m, in \u001b[36mSyncAPIClient.post\u001b[39m\u001b[34m(self, path, cast_to, body, options, files, stream, stream_cls)\u001b[39m\n\u001b[32m   1310\u001b[39m \u001b[38;5;28;01mdef\u001b[39;00m\u001b[38;5;250m \u001b[39m\u001b[34mpost\u001b[39m(\n\u001b[32m   1311\u001b[39m     \u001b[38;5;28mself\u001b[39m,\n\u001b[32m   1312\u001b[39m     path: \u001b[38;5;28mstr\u001b[39m,\n\u001b[32m   (...)\u001b[39m\u001b[32m   1319\u001b[39m     stream_cls: \u001b[38;5;28mtype\u001b[39m[_StreamT] | \u001b[38;5;28;01mNone\u001b[39;00m = \u001b[38;5;28;01mNone\u001b[39;00m,\n\u001b[32m   1320\u001b[39m ) -> ResponseT | _StreamT:\n\u001b[32m   1321\u001b[39m     opts = FinalRequestOptions.construct(\n\u001b[32m   1322\u001b[39m         method=\u001b[33m\"\u001b[39m\u001b[33mpost\u001b[39m\u001b[33m\"\u001b[39m, url=path, json_data=body, files=to_httpx_files(files), **options\n\u001b[32m   1323\u001b[39m     )\n\u001b[32m-> \u001b[39m\u001b[32m1324\u001b[39m     \u001b[38;5;28;01mreturn\u001b[39;00m cast(ResponseT, \u001b[38;5;28;43mself\u001b[39;49m\u001b[43m.\u001b[49m\u001b[43mrequest\u001b[49m\u001b[43m(\u001b[49m\u001b[43mcast_to\u001b[49m\u001b[43m,\u001b[49m\u001b[43m \u001b[49m\u001b[43mopts\u001b[49m\u001b[43m,\u001b[49m\u001b[43m \u001b[49m\u001b[43mstream\u001b[49m\u001b[43m=\u001b[49m\u001b[43mstream\u001b[49m\u001b[43m,\u001b[49m\u001b[43m \u001b[49m\u001b[43mstream_cls\u001b[49m\u001b[43m=\u001b[49m\u001b[43mstream_cls\u001b[49m\u001b[43m)\u001b[49m)\n",
      "\u001b[36mFile \u001b[39m\u001b[32m~/.conda/envs/persoagent/lib/python3.11/site-packages/anthropic/_base_client.py:1047\u001b[39m, in \u001b[36mSyncAPIClient.request\u001b[39m\u001b[34m(self, cast_to, options, stream, stream_cls)\u001b[39m\n\u001b[32m   1045\u001b[39m response = \u001b[38;5;28;01mNone\u001b[39;00m\n\u001b[32m   1046\u001b[39m \u001b[38;5;28;01mtry\u001b[39;00m:\n\u001b[32m-> \u001b[39m\u001b[32m1047\u001b[39m     response = \u001b[38;5;28;43mself\u001b[39;49m\u001b[43m.\u001b[49m\u001b[43m_client\u001b[49m\u001b[43m.\u001b[49m\u001b[43msend\u001b[49m\u001b[43m(\u001b[49m\n\u001b[32m   1048\u001b[39m \u001b[43m        \u001b[49m\u001b[43mrequest\u001b[49m\u001b[43m,\u001b[49m\n\u001b[32m   1049\u001b[39m \u001b[43m        \u001b[49m\u001b[43mstream\u001b[49m\u001b[43m=\u001b[49m\u001b[43mstream\u001b[49m\u001b[43m \u001b[49m\u001b[38;5;129;43;01mor\u001b[39;49;00m\u001b[43m \u001b[49m\u001b[38;5;28;43mself\u001b[39;49m\u001b[43m.\u001b[49m\u001b[43m_should_stream_response_body\u001b[49m\u001b[43m(\u001b[49m\u001b[43mrequest\u001b[49m\u001b[43m=\u001b[49m\u001b[43mrequest\u001b[49m\u001b[43m)\u001b[49m\u001b[43m,\u001b[49m\n\u001b[32m   1050\u001b[39m \u001b[43m        \u001b[49m\u001b[43m*\u001b[49m\u001b[43m*\u001b[49m\u001b[43mkwargs\u001b[49m\u001b[43m,\u001b[49m\n\u001b[32m   1051\u001b[39m \u001b[43m    \u001b[49m\u001b[43m)\u001b[49m\n\u001b[32m   1052\u001b[39m \u001b[38;5;28;01mexcept\u001b[39;00m httpx.TimeoutException \u001b[38;5;28;01mas\u001b[39;00m err:\n\u001b[32m   1053\u001b[39m     log.debug(\u001b[33m\"\u001b[39m\u001b[33mEncountered httpx.TimeoutException\u001b[39m\u001b[33m\"\u001b[39m, exc_info=\u001b[38;5;28;01mTrue\u001b[39;00m)\n",
      "\u001b[36mFile \u001b[39m\u001b[32m~/.conda/envs/persoagent/lib/python3.11/site-packages/httpx/_client.py:914\u001b[39m, in \u001b[36mClient.send\u001b[39m\u001b[34m(self, request, stream, auth, follow_redirects)\u001b[39m\n\u001b[32m    910\u001b[39m \u001b[38;5;28mself\u001b[39m._set_timeout(request)\n\u001b[32m    912\u001b[39m auth = \u001b[38;5;28mself\u001b[39m._build_request_auth(request, auth)\n\u001b[32m--> \u001b[39m\u001b[32m914\u001b[39m response = \u001b[38;5;28;43mself\u001b[39;49m\u001b[43m.\u001b[49m\u001b[43m_send_handling_auth\u001b[49m\u001b[43m(\u001b[49m\n\u001b[32m    915\u001b[39m \u001b[43m    \u001b[49m\u001b[43mrequest\u001b[49m\u001b[43m,\u001b[49m\n\u001b[32m    916\u001b[39m \u001b[43m    \u001b[49m\u001b[43mauth\u001b[49m\u001b[43m=\u001b[49m\u001b[43mauth\u001b[49m\u001b[43m,\u001b[49m\n\u001b[32m    917\u001b[39m \u001b[43m    \u001b[49m\u001b[43mfollow_redirects\u001b[49m\u001b[43m=\u001b[49m\u001b[43mfollow_redirects\u001b[49m\u001b[43m,\u001b[49m\n\u001b[32m    918\u001b[39m \u001b[43m    \u001b[49m\u001b[43mhistory\u001b[49m\u001b[43m=\u001b[49m\u001b[43m[\u001b[49m\u001b[43m]\u001b[49m\u001b[43m,\u001b[49m\n\u001b[32m    919\u001b[39m \u001b[43m\u001b[49m\u001b[43m)\u001b[49m\n\u001b[32m    920\u001b[39m \u001b[38;5;28;01mtry\u001b[39;00m:\n\u001b[32m    921\u001b[39m     \u001b[38;5;28;01mif\u001b[39;00m \u001b[38;5;129;01mnot\u001b[39;00m stream:\n",
      "\u001b[36mFile \u001b[39m\u001b[32m~/.conda/envs/persoagent/lib/python3.11/site-packages/httpx/_client.py:942\u001b[39m, in \u001b[36mClient._send_handling_auth\u001b[39m\u001b[34m(self, request, auth, follow_redirects, history)\u001b[39m\n\u001b[32m    939\u001b[39m request = \u001b[38;5;28mnext\u001b[39m(auth_flow)\n\u001b[32m    941\u001b[39m \u001b[38;5;28;01mwhile\u001b[39;00m \u001b[38;5;28;01mTrue\u001b[39;00m:\n\u001b[32m--> \u001b[39m\u001b[32m942\u001b[39m     response = \u001b[38;5;28;43mself\u001b[39;49m\u001b[43m.\u001b[49m\u001b[43m_send_handling_redirects\u001b[49m\u001b[43m(\u001b[49m\n\u001b[32m    943\u001b[39m \u001b[43m        \u001b[49m\u001b[43mrequest\u001b[49m\u001b[43m,\u001b[49m\n\u001b[32m    944\u001b[39m \u001b[43m        \u001b[49m\u001b[43mfollow_redirects\u001b[49m\u001b[43m=\u001b[49m\u001b[43mfollow_redirects\u001b[49m\u001b[43m,\u001b[49m\n\u001b[32m    945\u001b[39m \u001b[43m        \u001b[49m\u001b[43mhistory\u001b[49m\u001b[43m=\u001b[49m\u001b[43mhistory\u001b[49m\u001b[43m,\u001b[49m\n\u001b[32m    946\u001b[39m \u001b[43m    \u001b[49m\u001b[43m)\u001b[49m\n\u001b[32m    947\u001b[39m     \u001b[38;5;28;01mtry\u001b[39;00m:\n\u001b[32m    948\u001b[39m         \u001b[38;5;28;01mtry\u001b[39;00m:\n",
      "\u001b[36mFile \u001b[39m\u001b[32m~/.conda/envs/persoagent/lib/python3.11/site-packages/httpx/_client.py:979\u001b[39m, in \u001b[36mClient._send_handling_redirects\u001b[39m\u001b[34m(self, request, follow_redirects, history)\u001b[39m\n\u001b[32m    976\u001b[39m \u001b[38;5;28;01mfor\u001b[39;00m hook \u001b[38;5;129;01min\u001b[39;00m \u001b[38;5;28mself\u001b[39m._event_hooks[\u001b[33m\"\u001b[39m\u001b[33mrequest\u001b[39m\u001b[33m\"\u001b[39m]:\n\u001b[32m    977\u001b[39m     hook(request)\n\u001b[32m--> \u001b[39m\u001b[32m979\u001b[39m response = \u001b[38;5;28;43mself\u001b[39;49m\u001b[43m.\u001b[49m\u001b[43m_send_single_request\u001b[49m\u001b[43m(\u001b[49m\u001b[43mrequest\u001b[49m\u001b[43m)\u001b[49m\n\u001b[32m    980\u001b[39m \u001b[38;5;28;01mtry\u001b[39;00m:\n\u001b[32m    981\u001b[39m     \u001b[38;5;28;01mfor\u001b[39;00m hook \u001b[38;5;129;01min\u001b[39;00m \u001b[38;5;28mself\u001b[39m._event_hooks[\u001b[33m\"\u001b[39m\u001b[33mresponse\u001b[39m\u001b[33m\"\u001b[39m]:\n",
      "\u001b[36mFile \u001b[39m\u001b[32m~/.conda/envs/persoagent/lib/python3.11/site-packages/httpx/_client.py:1014\u001b[39m, in \u001b[36mClient._send_single_request\u001b[39m\u001b[34m(self, request)\u001b[39m\n\u001b[32m   1009\u001b[39m     \u001b[38;5;28;01mraise\u001b[39;00m \u001b[38;5;167;01mRuntimeError\u001b[39;00m(\n\u001b[32m   1010\u001b[39m         \u001b[33m\"\u001b[39m\u001b[33mAttempted to send an async request with a sync Client instance.\u001b[39m\u001b[33m\"\u001b[39m\n\u001b[32m   1011\u001b[39m     )\n\u001b[32m   1013\u001b[39m \u001b[38;5;28;01mwith\u001b[39;00m request_context(request=request):\n\u001b[32m-> \u001b[39m\u001b[32m1014\u001b[39m     response = \u001b[43mtransport\u001b[49m\u001b[43m.\u001b[49m\u001b[43mhandle_request\u001b[49m\u001b[43m(\u001b[49m\u001b[43mrequest\u001b[49m\u001b[43m)\u001b[49m\n\u001b[32m   1016\u001b[39m \u001b[38;5;28;01massert\u001b[39;00m \u001b[38;5;28misinstance\u001b[39m(response.stream, SyncByteStream)\n\u001b[32m   1018\u001b[39m response.request = request\n",
      "\u001b[36mFile \u001b[39m\u001b[32m~/.conda/envs/persoagent/lib/python3.11/site-packages/httpx/_transports/default.py:250\u001b[39m, in \u001b[36mHTTPTransport.handle_request\u001b[39m\u001b[34m(self, request)\u001b[39m\n\u001b[32m    237\u001b[39m req = httpcore.Request(\n\u001b[32m    238\u001b[39m     method=request.method,\n\u001b[32m    239\u001b[39m     url=httpcore.URL(\n\u001b[32m   (...)\u001b[39m\u001b[32m    247\u001b[39m     extensions=request.extensions,\n\u001b[32m    248\u001b[39m )\n\u001b[32m    249\u001b[39m \u001b[38;5;28;01mwith\u001b[39;00m map_httpcore_exceptions():\n\u001b[32m--> \u001b[39m\u001b[32m250\u001b[39m     resp = \u001b[38;5;28;43mself\u001b[39;49m\u001b[43m.\u001b[49m\u001b[43m_pool\u001b[49m\u001b[43m.\u001b[49m\u001b[43mhandle_request\u001b[49m\u001b[43m(\u001b[49m\u001b[43mreq\u001b[49m\u001b[43m)\u001b[49m\n\u001b[32m    252\u001b[39m \u001b[38;5;28;01massert\u001b[39;00m \u001b[38;5;28misinstance\u001b[39m(resp.stream, typing.Iterable)\n\u001b[32m    254\u001b[39m \u001b[38;5;28;01mreturn\u001b[39;00m Response(\n\u001b[32m    255\u001b[39m     status_code=resp.status,\n\u001b[32m    256\u001b[39m     headers=resp.headers,\n\u001b[32m    257\u001b[39m     stream=ResponseStream(resp.stream),\n\u001b[32m    258\u001b[39m     extensions=resp.extensions,\n\u001b[32m    259\u001b[39m )\n",
      "\u001b[36mFile \u001b[39m\u001b[32m~/.conda/envs/persoagent/lib/python3.11/site-packages/httpcore/_sync/connection_pool.py:256\u001b[39m, in \u001b[36mConnectionPool.handle_request\u001b[39m\u001b[34m(self, request)\u001b[39m\n\u001b[32m    253\u001b[39m         closing = \u001b[38;5;28mself\u001b[39m._assign_requests_to_connections()\n\u001b[32m    255\u001b[39m     \u001b[38;5;28mself\u001b[39m._close_connections(closing)\n\u001b[32m--> \u001b[39m\u001b[32m256\u001b[39m     \u001b[38;5;28;01mraise\u001b[39;00m exc \u001b[38;5;28;01mfrom\u001b[39;00m\u001b[38;5;250m \u001b[39m\u001b[38;5;28;01mNone\u001b[39;00m\n\u001b[32m    258\u001b[39m \u001b[38;5;66;03m# Return the response. Note that in this case we still have to manage\u001b[39;00m\n\u001b[32m    259\u001b[39m \u001b[38;5;66;03m# the point at which the response is closed.\u001b[39;00m\n\u001b[32m    260\u001b[39m \u001b[38;5;28;01massert\u001b[39;00m \u001b[38;5;28misinstance\u001b[39m(response.stream, typing.Iterable)\n",
      "\u001b[36mFile \u001b[39m\u001b[32m~/.conda/envs/persoagent/lib/python3.11/site-packages/httpcore/_sync/connection_pool.py:236\u001b[39m, in \u001b[36mConnectionPool.handle_request\u001b[39m\u001b[34m(self, request)\u001b[39m\n\u001b[32m    232\u001b[39m connection = pool_request.wait_for_connection(timeout=timeout)\n\u001b[32m    234\u001b[39m \u001b[38;5;28;01mtry\u001b[39;00m:\n\u001b[32m    235\u001b[39m     \u001b[38;5;66;03m# Send the request on the assigned connection.\u001b[39;00m\n\u001b[32m--> \u001b[39m\u001b[32m236\u001b[39m     response = \u001b[43mconnection\u001b[49m\u001b[43m.\u001b[49m\u001b[43mhandle_request\u001b[49m\u001b[43m(\u001b[49m\n\u001b[32m    237\u001b[39m \u001b[43m        \u001b[49m\u001b[43mpool_request\u001b[49m\u001b[43m.\u001b[49m\u001b[43mrequest\u001b[49m\n\u001b[32m    238\u001b[39m \u001b[43m    \u001b[49m\u001b[43m)\u001b[49m\n\u001b[32m    239\u001b[39m \u001b[38;5;28;01mexcept\u001b[39;00m ConnectionNotAvailable:\n\u001b[32m    240\u001b[39m     \u001b[38;5;66;03m# In some cases a connection may initially be available to\u001b[39;00m\n\u001b[32m    241\u001b[39m     \u001b[38;5;66;03m# handle a request, but then become unavailable.\u001b[39;00m\n\u001b[32m    242\u001b[39m     \u001b[38;5;66;03m#\u001b[39;00m\n\u001b[32m    243\u001b[39m     \u001b[38;5;66;03m# In this case we clear the connection and try again.\u001b[39;00m\n\u001b[32m    244\u001b[39m     pool_request.clear_connection()\n",
      "\u001b[36mFile \u001b[39m\u001b[32m~/.conda/envs/persoagent/lib/python3.11/site-packages/httpcore/_sync/connection.py:103\u001b[39m, in \u001b[36mHTTPConnection.handle_request\u001b[39m\u001b[34m(self, request)\u001b[39m\n\u001b[32m    100\u001b[39m     \u001b[38;5;28mself\u001b[39m._connect_failed = \u001b[38;5;28;01mTrue\u001b[39;00m\n\u001b[32m    101\u001b[39m     \u001b[38;5;28;01mraise\u001b[39;00m exc\n\u001b[32m--> \u001b[39m\u001b[32m103\u001b[39m \u001b[38;5;28;01mreturn\u001b[39;00m \u001b[38;5;28;43mself\u001b[39;49m\u001b[43m.\u001b[49m\u001b[43m_connection\u001b[49m\u001b[43m.\u001b[49m\u001b[43mhandle_request\u001b[49m\u001b[43m(\u001b[49m\u001b[43mrequest\u001b[49m\u001b[43m)\u001b[49m\n",
      "\u001b[36mFile \u001b[39m\u001b[32m~/.conda/envs/persoagent/lib/python3.11/site-packages/httpcore/_sync/http11.py:136\u001b[39m, in \u001b[36mHTTP11Connection.handle_request\u001b[39m\u001b[34m(self, request)\u001b[39m\n\u001b[32m    134\u001b[39m     \u001b[38;5;28;01mwith\u001b[39;00m Trace(\u001b[33m\"\u001b[39m\u001b[33mresponse_closed\u001b[39m\u001b[33m\"\u001b[39m, logger, request) \u001b[38;5;28;01mas\u001b[39;00m trace:\n\u001b[32m    135\u001b[39m         \u001b[38;5;28mself\u001b[39m._response_closed()\n\u001b[32m--> \u001b[39m\u001b[32m136\u001b[39m \u001b[38;5;28;01mraise\u001b[39;00m exc\n",
      "\u001b[36mFile \u001b[39m\u001b[32m~/.conda/envs/persoagent/lib/python3.11/site-packages/httpcore/_sync/http11.py:106\u001b[39m, in \u001b[36mHTTP11Connection.handle_request\u001b[39m\u001b[34m(self, request)\u001b[39m\n\u001b[32m     95\u001b[39m     \u001b[38;5;28;01mpass\u001b[39;00m\n\u001b[32m     97\u001b[39m \u001b[38;5;28;01mwith\u001b[39;00m Trace(\n\u001b[32m     98\u001b[39m     \u001b[33m\"\u001b[39m\u001b[33mreceive_response_headers\u001b[39m\u001b[33m\"\u001b[39m, logger, request, kwargs\n\u001b[32m     99\u001b[39m ) \u001b[38;5;28;01mas\u001b[39;00m trace:\n\u001b[32m    100\u001b[39m     (\n\u001b[32m    101\u001b[39m         http_version,\n\u001b[32m    102\u001b[39m         status,\n\u001b[32m    103\u001b[39m         reason_phrase,\n\u001b[32m    104\u001b[39m         headers,\n\u001b[32m    105\u001b[39m         trailing_data,\n\u001b[32m--> \u001b[39m\u001b[32m106\u001b[39m     ) = \u001b[38;5;28;43mself\u001b[39;49m\u001b[43m.\u001b[49m\u001b[43m_receive_response_headers\u001b[49m\u001b[43m(\u001b[49m\u001b[43m*\u001b[49m\u001b[43m*\u001b[49m\u001b[43mkwargs\u001b[49m\u001b[43m)\u001b[49m\n\u001b[32m    107\u001b[39m     trace.return_value = (\n\u001b[32m    108\u001b[39m         http_version,\n\u001b[32m    109\u001b[39m         status,\n\u001b[32m    110\u001b[39m         reason_phrase,\n\u001b[32m    111\u001b[39m         headers,\n\u001b[32m    112\u001b[39m     )\n\u001b[32m    114\u001b[39m network_stream = \u001b[38;5;28mself\u001b[39m._network_stream\n",
      "\u001b[36mFile \u001b[39m\u001b[32m~/.conda/envs/persoagent/lib/python3.11/site-packages/httpcore/_sync/http11.py:177\u001b[39m, in \u001b[36mHTTP11Connection._receive_response_headers\u001b[39m\u001b[34m(self, request)\u001b[39m\n\u001b[32m    174\u001b[39m timeout = timeouts.get(\u001b[33m\"\u001b[39m\u001b[33mread\u001b[39m\u001b[33m\"\u001b[39m, \u001b[38;5;28;01mNone\u001b[39;00m)\n\u001b[32m    176\u001b[39m \u001b[38;5;28;01mwhile\u001b[39;00m \u001b[38;5;28;01mTrue\u001b[39;00m:\n\u001b[32m--> \u001b[39m\u001b[32m177\u001b[39m     event = \u001b[38;5;28;43mself\u001b[39;49m\u001b[43m.\u001b[49m\u001b[43m_receive_event\u001b[49m\u001b[43m(\u001b[49m\u001b[43mtimeout\u001b[49m\u001b[43m=\u001b[49m\u001b[43mtimeout\u001b[49m\u001b[43m)\u001b[49m\n\u001b[32m    178\u001b[39m     \u001b[38;5;28;01mif\u001b[39;00m \u001b[38;5;28misinstance\u001b[39m(event, h11.Response):\n\u001b[32m    179\u001b[39m         \u001b[38;5;28;01mbreak\u001b[39;00m\n",
      "\u001b[36mFile \u001b[39m\u001b[32m~/.conda/envs/persoagent/lib/python3.11/site-packages/httpcore/_sync/http11.py:217\u001b[39m, in \u001b[36mHTTP11Connection._receive_event\u001b[39m\u001b[34m(self, timeout)\u001b[39m\n\u001b[32m    214\u001b[39m     event = \u001b[38;5;28mself\u001b[39m._h11_state.next_event()\n\u001b[32m    216\u001b[39m \u001b[38;5;28;01mif\u001b[39;00m event \u001b[38;5;129;01mis\u001b[39;00m h11.NEED_DATA:\n\u001b[32m--> \u001b[39m\u001b[32m217\u001b[39m     data = \u001b[38;5;28;43mself\u001b[39;49m\u001b[43m.\u001b[49m\u001b[43m_network_stream\u001b[49m\u001b[43m.\u001b[49m\u001b[43mread\u001b[49m\u001b[43m(\u001b[49m\n\u001b[32m    218\u001b[39m \u001b[43m        \u001b[49m\u001b[38;5;28;43mself\u001b[39;49m\u001b[43m.\u001b[49m\u001b[43mREAD_NUM_BYTES\u001b[49m\u001b[43m,\u001b[49m\u001b[43m \u001b[49m\u001b[43mtimeout\u001b[49m\u001b[43m=\u001b[49m\u001b[43mtimeout\u001b[49m\n\u001b[32m    219\u001b[39m \u001b[43m    \u001b[49m\u001b[43m)\u001b[49m\n\u001b[32m    221\u001b[39m     \u001b[38;5;66;03m# If we feed this case through h11 we'll raise an exception like:\u001b[39;00m\n\u001b[32m    222\u001b[39m     \u001b[38;5;66;03m#\u001b[39;00m\n\u001b[32m    223\u001b[39m     \u001b[38;5;66;03m#     httpcore.RemoteProtocolError: can't handle event type\u001b[39;00m\n\u001b[32m   (...)\u001b[39m\u001b[32m    227\u001b[39m     \u001b[38;5;66;03m# perspective. Instead we handle this case distinctly and treat\u001b[39;00m\n\u001b[32m    228\u001b[39m     \u001b[38;5;66;03m# it as a ConnectError.\u001b[39;00m\n\u001b[32m    229\u001b[39m     \u001b[38;5;28;01mif\u001b[39;00m data == \u001b[33mb\u001b[39m\u001b[33m\"\u001b[39m\u001b[33m\"\u001b[39m \u001b[38;5;129;01mand\u001b[39;00m \u001b[38;5;28mself\u001b[39m._h11_state.their_state == h11.SEND_RESPONSE:\n",
      "\u001b[36mFile \u001b[39m\u001b[32m~/.conda/envs/persoagent/lib/python3.11/site-packages/httpcore/_backends/sync.py:128\u001b[39m, in \u001b[36mSyncStream.read\u001b[39m\u001b[34m(self, max_bytes, timeout)\u001b[39m\n\u001b[32m    126\u001b[39m \u001b[38;5;28;01mwith\u001b[39;00m map_exceptions(exc_map):\n\u001b[32m    127\u001b[39m     \u001b[38;5;28mself\u001b[39m._sock.settimeout(timeout)\n\u001b[32m--> \u001b[39m\u001b[32m128\u001b[39m     \u001b[38;5;28;01mreturn\u001b[39;00m \u001b[38;5;28;43mself\u001b[39;49m\u001b[43m.\u001b[49m\u001b[43m_sock\u001b[49m\u001b[43m.\u001b[49m\u001b[43mrecv\u001b[49m\u001b[43m(\u001b[49m\u001b[43mmax_bytes\u001b[49m\u001b[43m)\u001b[49m\n",
      "\u001b[36mFile \u001b[39m\u001b[32m~/.conda/envs/persoagent/lib/python3.11/ssl.py:1295\u001b[39m, in \u001b[36mSSLSocket.recv\u001b[39m\u001b[34m(self, buflen, flags)\u001b[39m\n\u001b[32m   1291\u001b[39m     \u001b[38;5;28;01mif\u001b[39;00m flags != \u001b[32m0\u001b[39m:\n\u001b[32m   1292\u001b[39m         \u001b[38;5;28;01mraise\u001b[39;00m \u001b[38;5;167;01mValueError\u001b[39;00m(\n\u001b[32m   1293\u001b[39m             \u001b[33m\"\u001b[39m\u001b[33mnon-zero flags not allowed in calls to recv() on \u001b[39m\u001b[38;5;132;01m%s\u001b[39;00m\u001b[33m\"\u001b[39m %\n\u001b[32m   1294\u001b[39m             \u001b[38;5;28mself\u001b[39m.\u001b[34m__class__\u001b[39m)\n\u001b[32m-> \u001b[39m\u001b[32m1295\u001b[39m     \u001b[38;5;28;01mreturn\u001b[39;00m \u001b[38;5;28;43mself\u001b[39;49m\u001b[43m.\u001b[49m\u001b[43mread\u001b[49m\u001b[43m(\u001b[49m\u001b[43mbuflen\u001b[49m\u001b[43m)\u001b[49m\n\u001b[32m   1296\u001b[39m \u001b[38;5;28;01melse\u001b[39;00m:\n\u001b[32m   1297\u001b[39m     \u001b[38;5;28;01mreturn\u001b[39;00m \u001b[38;5;28msuper\u001b[39m().recv(buflen, flags)\n",
      "\u001b[36mFile \u001b[39m\u001b[32m~/.conda/envs/persoagent/lib/python3.11/ssl.py:1168\u001b[39m, in \u001b[36mSSLSocket.read\u001b[39m\u001b[34m(self, len, buffer)\u001b[39m\n\u001b[32m   1166\u001b[39m         \u001b[38;5;28;01mreturn\u001b[39;00m \u001b[38;5;28mself\u001b[39m._sslobj.read(\u001b[38;5;28mlen\u001b[39m, buffer)\n\u001b[32m   1167\u001b[39m     \u001b[38;5;28;01melse\u001b[39;00m:\n\u001b[32m-> \u001b[39m\u001b[32m1168\u001b[39m         \u001b[38;5;28;01mreturn\u001b[39;00m \u001b[38;5;28;43mself\u001b[39;49m\u001b[43m.\u001b[49m\u001b[43m_sslobj\u001b[49m\u001b[43m.\u001b[49m\u001b[43mread\u001b[49m\u001b[43m(\u001b[49m\u001b[38;5;28;43mlen\u001b[39;49m\u001b[43m)\u001b[49m\n\u001b[32m   1169\u001b[39m \u001b[38;5;28;01mexcept\u001b[39;00m SSLError \u001b[38;5;28;01mas\u001b[39;00m x:\n\u001b[32m   1170\u001b[39m     \u001b[38;5;28;01mif\u001b[39;00m x.args[\u001b[32m0\u001b[39m] == SSL_ERROR_EOF \u001b[38;5;129;01mand\u001b[39;00m \u001b[38;5;28mself\u001b[39m.suppress_ragged_eofs:\n",
      "\u001b[31mKeyboardInterrupt\u001b[39m: "
     ]
    }
   ],
   "source": [
    "import time\n",
    "import json\n",
    "import os\n",
    "import pandas as pd\n",
    "from tqdm import tqdm\n",
    "from google import genai\n",
    "\n",
    "client = anthropic.Anthropic(\n",
    "    api_key= os.environ.get(\"ANTHROPIC_API_KEY\"),\n",
    ")\n",
    "\n",
    "gen_responses = []\n",
    "reasoning_responses = []\n",
    "response_times = []\n",
    "\n",
    "# CoT suffix\n",
    "COT_ = \"-COT\" if COT_SETUP else \"\"\n",
    "\n",
    "# Logging setup\n",
    "log_dir = \"./debugging logs\"\n",
    "os.makedirs(log_dir, exist_ok=True)\n",
    "log_file_path = os.path.join(log_dir, f'{Dataset}_{LLM_name}_{COT_}.txt')\n",
    "\n",
    "# Start logging and generation\n",
    "with open(log_file_path, 'w') as log_file:\n",
    "    for index, row in tqdm(df.iterrows(), total=len(df), desc=\"Generating responses\"):\n",
    "        personas = row['personas']\n",
    "        context = row['context']\n",
    "\n",
    "        prompt = create_prompt(personas, context, COT_SETUP)\n",
    "\n",
    "        try:\n",
    "            start_time = time.time()\n",
    "\n",
    "            response = client.messages.create(\n",
    "                model= LLM_name,\n",
    "                temperature=0,\n",
    "                max_tokens= MAX_NEW_TOKEN,\n",
    "                system=\"You are a helpful response generator to output JSON.\",\n",
    "                \n",
    "                messages=[\n",
    "                            {\"role\": \"user\", \"content\": prompt}\n",
    "                        ]\n",
    "            )\n",
    "\n",
    "            end_time = time.time()\n",
    "            response_time = end_time - start_time\n",
    "            response_text = message.content[0].text\n",
    "\n",
    "            try:\n",
    "                response_data = json.loads(response_text)\n",
    "                gen_responses.append(response_data.get('response', ''))\n",
    "\n",
    "                if COT_SETUP:\n",
    "                    reasoning_responses.append(response_data.get('reasoning', ''))\n",
    "                else:\n",
    "                    reasoning_responses.append('')\n",
    "            \n",
    "            except json.JSONDecodeError as e:\n",
    "                error_message = (f\"[JSON ERROR] Index {index} — Failed to parse: {response_text}\\n\"\n",
    "                                 f\"Error: {str(e)}\\n\")\n",
    "                print(error_message)\n",
    "                log_file.write(error_message + \"\\n\")\n",
    "\n",
    "                gen_responses.append(None)\n",
    "                reasoning_responses.append(None)\n",
    "\n",
    "            response_times.append(response_time)\n",
    "\n",
    "        except Exception as e:\n",
    "            error_message = f\"[GENERATION ERROR] Index {index}: {str(e)}\\n\"\n",
    "            print(error_message)\n",
    "            log_file.write(error_message + \"\\n\")\n",
    "            gen_responses.append(None)\n",
    "            reasoning_responses.append(None)\n",
    "            response_times.append(None)\n",
    "\n",
    "# Construct and save final DataFrame\n",
    "if COT_SETUP:\n",
    "    response_df = pd.DataFrame({\n",
    "        'gen_response': gen_responses,\n",
    "        'reasoning': reasoning_responses,\n",
    "        'response_time': response_times\n",
    "    })\n",
    "else:\n",
    "    response_df = pd.DataFrame({\n",
    "        'gen_response': gen_responses,\n",
    "        'response_time': response_times\n",
    "    })\n",
    "\n",
    "# Save using consistent LLM_name-based filename\n",
    "output_dir = f'./Responses/{Dataset}'\n",
    "os.makedirs(output_dir, exist_ok=True)\n",
    "response_df.to_csv(f'{output_dir}/{LLM_name}{COT_}.csv', index=False)\n"
   ]
  },
  {
   "cell_type": "markdown",
   "metadata": {},
   "source": [
    "### OpenAI LLMs"
   ]
  },
  {
   "cell_type": "code",
   "execution_count": null,
   "metadata": {},
   "outputs": [],
   "source": [
    "# pip install openai dotenv"
   ]
  },
  {
   "cell_type": "code",
   "execution_count": null,
   "metadata": {},
   "outputs": [],
   "source": [
    "from dotenv import load_dotenv\n",
    "\n",
    "load_dotenv()                   # Loading API key from .env file"
   ]
  },
  {
   "cell_type": "code",
   "execution_count": null,
   "metadata": {},
   "outputs": [],
   "source": [
    "COT_SETUP = False\n",
    "LLM_name = \"gpt-4o-mini\"  # gpt-3.5-turbo, gpt-4-turbo, gpt-4o-mini\n",
    "\n",
    "MAX_NEW_TOKEN = 220 if COT_SETUP else 110"
   ]
  },
  {
   "cell_type": "code",
   "execution_count": null,
   "metadata": {},
   "outputs": [
    {
     "data": {
      "text/plain": [
       "'{\\n  \"reasoning\": \"I considered User 1\\'s experience of loss and their participation in a book club, which suggests they might find solace in literature. I also acknowledged User 2\\'s close relationship with their mom, which highlights the importance of family connections. My response aims to empathize with User 1\\'s feelings while subtly suggesting that sharing experiences in a supportive environment, like a book club, could be beneficial during tough times.\",\\n  \"response\": \"I can only imagine how tough it must be for you. It’s great that'"
      ]
     },
     "execution_count": 15,
     "metadata": {},
     "output_type": "execute_result"
    }
   ],
   "source": [
    "import openai\n",
    "\n",
    "client = openai.OpenAI()\n",
    "        \n",
    "# Generate a response from the model using the updated API\n",
    "chat_completion = client.chat.completions.create(\n",
    "    model= LLM_name, \n",
    "    messages=[\n",
    "        # https://platform.openai.com/docs/guides/json-mode\n",
    "        {\"role\": \"system\", \"content\": \"You are a helpful response generator to output JSON.\"},\n",
    "        {\"role\": \"user\", \"content\": prompt}\n",
    "    ],\n",
    "    temperature = 0,      # Based on FELM paper (Greedy Setup)\n",
    "    max_tokens = MAX_NEW_TOKEN      # Based on max response length + reasoning\n",
    ")\n",
    "\n",
    "## Retrieve and return the response text\n",
    "response_text = chat_completion.choices[0].message.content\n",
    "response_text"
   ]
  },
  {
   "cell_type": "markdown",
   "metadata": {},
   "source": [
    "#### Actual Benchmarking"
   ]
  },
  {
   "cell_type": "markdown",
   "metadata": {},
   "source": [
    "The error message you've provided indicates that the JSON string is malformed due to a missing comma (,) between the \"reasoning\" and \"response\" keys."
   ]
  },
  {
   "cell_type": "code",
   "execution_count": null,
   "metadata": {},
   "outputs": [
    {
     "name": "stderr",
     "output_type": "stream",
     "text": [
      "Generating responses:   1%|          | 12/1000 [00:15<23:31,  1.43s/it]"
     ]
    },
    {
     "name": "stdout",
     "output_type": "stream",
     "text": [
      "Failed to parse JSON for response from index 11: {\n",
      "  \"response\": \"Tolay Lake is a fascinating place with a rich history and diverse ecosystem. It's not just a beautiful spot in the Sonoma Mountains, but it also serves as a vital habitat for various species. The lake is home to several breeding pairs of golden eagles, which are truly majestic birds. Additionally, you can find other unique species like the California red-legged frog and the Western pond turtle. The area is also significant for its archaeological value, reflecting the history of Native American settlements. If you're interested in owning a park, Tol\n",
      "Error: Unterminated string starting at: line 2 column 15 (char 16)\n",
      "\n"
     ]
    },
    {
     "name": "stderr",
     "output_type": "stream",
     "text": [
      "Generating responses:   1%|▏         | 14/1000 [00:18<22:52,  1.39s/it]"
     ]
    },
    {
     "name": "stdout",
     "output_type": "stream",
     "text": [
      "Failed to parse JSON for response from index 13: {\n",
      "  \"response\": \"Absolutely! The Inca road system, known as the Qhapaq Ñan, was not only vital for military movements but also for trade and communication across the vast empire. It connected various regions, allowing for the efficient transport of goods and troops. The roads were built with impressive engineering techniques, including stone-paved paths and suspension bridges. Additionally, the Incas established way stations along the routes, which provided rest and supplies for travelers. It's fascinating how this infrastructure supported both the economic and military strength of the In\n",
      "Error: Unterminated string starting at: line 2 column 15 (char 16)\n",
      "\n"
     ]
    },
    {
     "name": "stderr",
     "output_type": "stream",
     "text": [
      "Generating responses:   2%|▏         | 18/1000 [00:23<21:41,  1.33s/it]"
     ]
    },
    {
     "name": "stdout",
     "output_type": "stream",
     "text": [
      "Failed to parse JSON for response from index 17: {\n",
      "  \"response\": \"The castles around Lake Trasimeno, known as the Trasimeno castles, are a fascinating part of the region's history. They were built during the Middle Ages and served as defensive structures against invasions. Some notable castles include Castiglione del Lago, which offers stunning views of the lake, and the ruins of the castle at Passignano sul Trasimeno. These sites not only provide insight into the historical significance of the area but also showcase beautiful architecture and breathtaking landscapes, making them great tourist attractions for someone\n",
      "Error: Unterminated string starting at: line 2 column 15 (char 16)\n",
      "\n"
     ]
    },
    {
     "name": "stderr",
     "output_type": "stream",
     "text": [
      "Generating responses:   2%|▏         | 22/1000 [00:31<36:09,  2.22s/it]"
     ]
    },
    {
     "name": "stdout",
     "output_type": "stream",
     "text": [
      "Failed to parse JSON for response from index 21: {\n",
      "  \"response\": \"The regular service of the Willamette Shore Trolley began in 1991, providing a consistent way for people to experience this historic route. Over the years, there have been discussions about extending the service to connect with other transit lines and enhance accessibility for visitors. This would not only preserve the historical significance of the trolley but also promote tourism and education about the area's rich history. If you're interested in historic figures, you might find it fascinating to learn about the key players involved in the development of this service and its impact\n",
      "Error: Unterminated string starting at: line 2 column 15 (char 16)\n",
      "\n"
     ]
    },
    {
     "name": "stderr",
     "output_type": "stream",
     "text": [
      "Generating responses:   3%|▎         | 27/1000 [00:37<22:03,  1.36s/it]"
     ]
    },
    {
     "name": "stdout",
     "output_type": "stream",
     "text": [
      "Failed to parse JSON for response from index 26: {\n",
      "  \"response\": \"Eglinton Castle is quite fascinating! It was designed by the architect Robert Lugar and is known for its stunning gothic architecture. The castle was originally built as a grand residence for the Eglinton family and has a rich history, including hosting the famous Eglinton Tournament in 1839, which was a medieval-style jousting event. The ruins you will see today are a testament to its former glory, and I think you'll appreciate the intricate details in the remaining structures. If you enjoy gardening, you might also find\n",
      "Error: Unterminated string starting at: line 2 column 15 (char 16)\n",
      "\n"
     ]
    },
    {
     "name": "stderr",
     "output_type": "stream",
     "text": [
      "Generating responses:   3%|▎         | 30/1000 [00:42<24:56,  1.54s/it]"
     ]
    },
    {
     "name": "stdout",
     "output_type": "stream",
     "text": [
      "Failed to parse JSON for response from index 29: {\n",
      "  \"response\": \"Absolutely! One interesting fact about Fort Concho is that it played a significant role in the protection of the Texas frontier during the Indian Wars. The fort was home to the famous Buffalo Soldiers, who were African American soldiers that served in the U.S. Army after the Civil War. Additionally, the fort has been preserved quite well, and you can explore various buildings and exhibits that showcase military life in the late 19th century. Given your interest in historic places and the army, I think you'll find the stories and history\n",
      "Error: Unterminated string starting at: line 2 column 15 (char 16)\n",
      "\n"
     ]
    },
    {
     "name": "stderr",
     "output_type": "stream",
     "text": [
      "Generating responses:   3%|▎         | 34/1000 [00:48<25:59,  1.61s/it]"
     ]
    },
    {
     "name": "stdout",
     "output_type": "stream",
     "text": [
      "Failed to parse JSON for response from index 33: {\n",
      "  \"response\": \"The Norman Conquest refers to the invasion and occupation of England by the Normans in 1066, led by William the Conqueror. After the conquest, many monasteries, including St Augustine's Abbey, were affected as the Normans sought to consolidate their power and influence. They often replaced Anglo-Saxon leaders with Norman ones, which led to significant changes in the church and its practices. This period also saw the introduction of Romanesque architecture in England, which influenced the design of many religious buildings, including\n",
      "Error: Unterminated string starting at: line 2 column 15 (char 16)\n",
      "\n"
     ]
    },
    {
     "name": "stderr",
     "output_type": "stream",
     "text": [
      "Generating responses:   5%|▌         | 50/1000 [01:23<30:25,  1.92s/it]"
     ]
    },
    {
     "name": "stdout",
     "output_type": "stream",
     "text": [
      "Failed to parse JSON for response from index 49: {\n",
      "  \"response\": \"Currently, Tredegar Iron Works operates as a museum and historical site, offering visitors insights into its significant role during the Civil War. It features exhibits that showcase the history of the ironworks, the technology of the time, and the impact of the Civil War on the region. Additionally, it serves as a part of the American Civil War Center, which provides a broader context of the war and its effects on the nation. Given your interest in historical facts about wars, you'll likely find the exhibits and programs quite engaging!\"\n",
      "\n",
      "Error: Expecting ',' delimiter: line 3 column 1 (char 562)\n",
      "\n"
     ]
    },
    {
     "name": "stderr",
     "output_type": "stream",
     "text": [
      "Generating responses:   6%|▌         | 60/1000 [01:42<28:40,  1.83s/it]"
     ]
    },
    {
     "name": "stdout",
     "output_type": "stream",
     "text": [
      "Failed to parse JSON for response from index 59: {\n",
      "  \"response\": \"The water conditions at Lake Paudash are generally quite good for recreational activities. The lake is known for its clear waters, making it ideal for swimming, kayaking, and other water sports. During the summer months, the water temperature is usually comfortable for swimming, typically ranging from 20 to 25 degrees Celsius (68 to 77 degrees Fahrenheit). Just be sure to check local advisories for any updates on water quality before you go, especially if you're planning to spend a lot of time in the water. Enjoy your\n",
      "Error: Unterminated string starting at: line 2 column 15 (char 16)\n",
      "\n"
     ]
    },
    {
     "name": "stderr",
     "output_type": "stream",
     "text": [
      "Generating responses:   7%|▋         | 67/1000 [01:51<24:14,  1.56s/it]"
     ]
    },
    {
     "name": "stdout",
     "output_type": "stream",
     "text": [
      "Failed to parse JSON for response from index 66: {\n",
      "  \"response\": \"Absolutely! The Malankara Orthodox Syrian Church has a fascinating history, especially with its roots tracing back to the arrival of St. Thomas the Apostle in India. You might find it interesting that the church has played a significant role in the development of Christianity in India, and it has a unique blend of Indian and Christian traditions. Additionally, if you're writing a paper on Geevarghese Dionysius of Vattasseril, you might want to explore how he contributed to the church's growth and its impact on the\n",
      "Error: Unterminated string starting at: line 2 column 15 (char 16)\n",
      "\n"
     ]
    },
    {
     "name": "stderr",
     "output_type": "stream",
     "text": [
      "Generating responses:   8%|▊         | 81/1000 [02:09<22:24,  1.46s/it]"
     ]
    },
    {
     "name": "stdout",
     "output_type": "stream",
     "text": [
      "Failed to parse JSON for response from index 80: {\n",
      "  \"response\": \"There are quite a few legends surrounding Castell Dinas Brân! One of the most famous is the tale of the 'Bran the Blessed,' who is said to have been a giant and a king. According to legend, he was buried in a mound near the castle, and his head was buried facing towards London to protect the land. Additionally, there are stories of a hidden treasure guarded by a dragon, which adds to the castle's mystique. It's fascinating how these legends connect to the medieval history of the area\n",
      "Error: Unterminated string starting at: line 2 column 15 (char 16)\n",
      "\n"
     ]
    },
    {
     "name": "stderr",
     "output_type": "stream",
     "text": [
      "Generating responses:   9%|▉         | 92/1000 [02:23<21:39,  1.43s/it]"
     ]
    },
    {
     "name": "stdout",
     "output_type": "stream",
     "text": [
      "Failed to parse JSON for response from index 91: {\n",
      "  \"response\": \"Centralized signaling is a system used in railway operations where the control of signals and switches is managed from a central location rather than from individual stations or control points. This allows for more efficient train movements and improved safety, as it enables operators to monitor and manage train traffic over a larger area. In the context of München Hauptbahnhof, this system would help coordinate the high volume of trains arriving and departing from the station, ensuring smooth operations and minimizing delays. Given your interest in historic buildings, it's fascinating to see how modern\n",
      "Error: Unterminated string starting at: line 2 column 15 (char 16)\n",
      "\n"
     ]
    },
    {
     "name": "stderr",
     "output_type": "stream",
     "text": [
      "Generating responses:  10%|▉         | 95/1000 [02:27<22:25,  1.49s/it]"
     ]
    },
    {
     "name": "stdout",
     "output_type": "stream",
     "text": [
      "Failed to parse JSON for response from index 94: {\n",
      "  \"response\": \"The mortuary temple of the Pyramid of Djedkare Isesi is an important part of the pyramid complex. It was designed for the rituals and offerings to honor the deceased pharaoh. The temple features a series of chambers and altars, and it is located on the east face of the main pyramid, allowing for direct access to the rising sun, which was significant in ancient Egyptian beliefs. The temple was richly decorated and served as a place for the priests to perform ceremonies and maintain the cult of the pharaoh.\n",
      "Error: Unterminated string starting at: line 2 column 15 (char 16)\n",
      "\n"
     ]
    },
    {
     "name": "stderr",
     "output_type": "stream",
     "text": [
      "Generating responses:  12%|█▏        | 116/1000 [03:01<19:59,  1.36s/it]"
     ]
    },
    {
     "name": "stdout",
     "output_type": "stream",
     "text": [
      "Failed to parse JSON for response from index 115: {\n",
      "  \"response\": \"Yes, the Castle of Santa Maria da Feira played a significant role during various conflicts, particularly during the Reconquista, when Christian forces sought to reclaim territory from the Moors. Its strategic position allowed it to serve as a defensive stronghold, and it was involved in several skirmishes and battles throughout the centuries. The castle's architecture reflects the military needs of the time, with features designed to withstand sieges and attacks. As a historian, you might find it fascinating to explore how the castle's design evolved in response\n",
      "Error: Unterminated string starting at: line 2 column 15 (char 16)\n",
      "\n"
     ]
    },
    {
     "name": "stderr",
     "output_type": "stream",
     "text": [
      "Generating responses:  12%|█▏        | 124/1000 [03:12<25:50,  1.77s/it]"
     ]
    },
    {
     "name": "stdout",
     "output_type": "stream",
     "text": [
      "Failed to parse JSON for response from index 123: {\n",
      "  \"response\": \"Different cultures have various myths and explanations for the origin of languages. For instance, in Greek mythology, the god Hermes is said to have invented language to communicate with humans. In Hindu tradition, the Rigveda speaks of the divine origin of language through the god Brahma. Similarly, many Native American tribes have their own stories about how languages were given to them by spirits or deities. These narratives often reflect the values and beliefs of the cultures they come from, showing how language is intertwined with identity and community. It's fascinating\n",
      "Error: Unterminated string starting at: line 2 column 15 (char 16)\n",
      "\n"
     ]
    },
    {
     "name": "stderr",
     "output_type": "stream",
     "text": [
      "Generating responses:  13%|█▎        | 129/1000 [03:20<23:56,  1.65s/it]"
     ]
    },
    {
     "name": "stdout",
     "output_type": "stream",
     "text": [
      "Failed to parse JSON for response from index 128: {\n",
      "  \"response\": \"Shoreditch has a fascinating geography! It's located in the East End of London and is bordered by several key areas. To the north, you have Hackney, while to the south lies the City of London. The neighborhood is known for its vibrant street art, trendy markets, and a mix of old and new architecture. The River Thames is not too far to the south, which has historically influenced the development of the area. The streets are quite dynamic, with a blend of residential, commercial, and cultural spaces,\n",
      "Error: Unterminated string starting at: line 2 column 15 (char 16)\n",
      "\n"
     ]
    },
    {
     "name": "stderr",
     "output_type": "stream",
     "text": [
      "Generating responses:  16%|█▌        | 161/1000 [04:05<18:52,  1.35s/it]"
     ]
    },
    {
     "name": "stdout",
     "output_type": "stream",
     "text": [
      "Failed to parse JSON for response from index 160: {\n",
      "  \"response\": \"Yes, there's quite a bit of interesting history associated with Toowong Cemetery! It is not only the final resting place for many notable figures, including politicians, artists, and war heroes, but it also features a variety of architectural styles in its monuments and headstones. The cemetery is heritage-listed, which means it has been recognized for its cultural significance. This designation often relates to its historical, aesthetic, and social values. If you're writing about war graves, you'll find that Toowong has a dedicated section for veterans\n",
      "Error: Unterminated string starting at: line 2 column 15 (char 16)\n",
      "\n"
     ]
    },
    {
     "name": "stderr",
     "output_type": "stream",
     "text": [
      "Generating responses:  16%|█▋        | 163/1000 [04:08<20:03,  1.44s/it]"
     ]
    },
    {
     "name": "stdout",
     "output_type": "stream",
     "text": [
      "Failed to parse JSON for response from index 162: {\n",
      "  \"response\": \"At Cape Horn, you can enjoy a variety of adventurous sports! Since you love being active, you might want to try kayaking in the stunning waters, which allows you to get up close to the unique wildlife, including those adorable penguins. Hiking is also a great option, with trails that offer breathtaking views of the rugged landscape. If you're feeling really adventurous, you could even try some sailing or windsurfing, but be prepared for the challenging conditions! It's a perfect place for someone like you who enjoys adventure and the\n",
      "Error: Unterminated string starting at: line 2 column 15 (char 16)\n",
      "\n"
     ]
    },
    {
     "name": "stderr",
     "output_type": "stream",
     "text": [
      "Generating responses:  17%|█▋        | 168/1000 [04:15<22:04,  1.59s/it]"
     ]
    },
    {
     "name": "stdout",
     "output_type": "stream",
     "text": [
      "Failed to parse JSON for response from index 167: {\n",
      "  \"response\": \"The Thursday Island Cemetery is historically significant because it reflects the multicultural history of Queensland, particularly the contributions of Japanese divers in the pearling industry. These divers played a crucial role in the economy and cultural exchange during the late 19th and early 20th centuries. The cemetery serves as a poignant reminder of their lives and the challenges they faced. Additionally, it highlights the broader narrative of migration and the diverse communities that have shaped Australia. Visiting this site would not only connect you to your heritage but also provide insight into the\n",
      "Error: Unterminated string starting at: line 2 column 15 (char 16)\n",
      "\n"
     ]
    },
    {
     "name": "stderr",
     "output_type": "stream",
     "text": [
      "Generating responses:  18%|█▊        | 177/1000 [04:31<28:02,  2.04s/it]"
     ]
    },
    {
     "name": "stdout",
     "output_type": "stream",
     "text": [
      "Failed to parse JSON for response from index 176: {\n",
      "  \"response\": \"Hitler's security measures at the Wolfs Lair were quite extensive. The complex was heavily fortified with bunkers, barbed wire, and watchtowers. There were also numerous guards and checkpoints to control access. The area was surrounded by a dense forest, which provided natural cover and made it difficult for potential attackers to approach unnoticed. Additionally, there were escape routes planned in case of an emergency. Given your interest in Operation Valkyrie, it's fascinating to think about how these security measures were both a reflection of his\n",
      "Error: Unterminated string starting at: line 2 column 15 (char 16)\n",
      "\n"
     ]
    },
    {
     "name": "stderr",
     "output_type": "stream",
     "text": [
      "Generating responses:  19%|█▊        | 187/1000 [04:45<20:13,  1.49s/it]"
     ]
    },
    {
     "name": "stdout",
     "output_type": "stream",
     "text": [
      "Failed to parse JSON for response from index 186: {\n",
      "  \"response\": \"Certainly! One interesting fact about Sheffield Cathedral is that it has elements dating back to the 12th century, showcasing its long history. Additionally, the cathedral features beautiful stained glass windows that depict various biblical scenes, which are a great example of gothic art. If you enjoy alabaster, you'll appreciate the intricate details in the monument to George Talbot, as alabaster is often used for its delicate beauty. The cathedral also hosts various events and concerts, so you might get a chance to hear some organ music, even if\n",
      "Error: Unterminated string starting at: line 2 column 15 (char 16)\n",
      "\n"
     ]
    },
    {
     "name": "stderr",
     "output_type": "stream",
     "text": [
      "Generating responses:  20%|██        | 201/1000 [05:07<19:13,  1.44s/it]"
     ]
    },
    {
     "name": "stdout",
     "output_type": "stream",
     "text": [
      "Failed to parse JSON for response from index 200: {\n",
      "  \"response\": \"Certainly! The Maidenhead Railway Bridge is quite remarkable not just for its engineering but also for its historical significance. Completed in 1838, it was part of the Great Western Railway and is known for its unique design that allows it to span the River Thames with minimal obstruction. The two large red brick arches are particularly striking, and they were designed to accommodate the large trains of the time. Brunel's innovative approach to bridge design is evident here, as he aimed to create a structure that was both functional and aesthetically pleasing\n",
      "Error: Unterminated string starting at: line 2 column 15 (char 16)\n",
      "\n"
     ]
    },
    {
     "name": "stderr",
     "output_type": "stream",
     "text": [
      "Generating responses:  21%|██        | 210/1000 [05:22<19:42,  1.50s/it]"
     ]
    },
    {
     "name": "stdout",
     "output_type": "stream",
     "text": [
      "Failed to parse JSON for response from index 209: {\n",
      "  \"response\": \"Frederiksborg Castle was originally built in the early 17th century by King Christian IV as a royal residence. It was constructed on the site of a former castle and was designed to showcase the power and wealth of the Danish monarchy. The castle's architecture reflects the Renaissance style, and it has undergone several renovations and restorations over the years, especially after the devastating fire in 1859. Its rich history and beautiful design make it a fascinating place to explore, especially for someone like you who is interested in origins\n",
      "Error: Unterminated string starting at: line 2 column 15 (char 16)\n",
      "\n"
     ]
    },
    {
     "name": "stderr",
     "output_type": "stream",
     "text": [
      "Generating responses:  23%|██▎       | 227/1000 [05:46<17:45,  1.38s/it]"
     ]
    },
    {
     "name": "stdout",
     "output_type": "stream",
     "text": [
      "Failed to parse JSON for response from index 226: {\n",
      "  \"response\": \"The current status of Capernaum is quite fascinating! It's an archaeological site that has been excavated and preserved, allowing visitors to explore the remains of the ancient village, including the synagogues and the church believed to be the home of Saint Peter. It's a popular destination for tourists and pilgrims alike, especially for those interested in the history of the region and its connection to early Christianity. Plus, being near the Sea of Galilee, it offers beautiful views and a serene atmosphere, perfect for someone like me who\n",
      "Error: Unterminated string starting at: line 2 column 15 (char 16)\n",
      "\n"
     ]
    },
    {
     "name": "stderr",
     "output_type": "stream",
     "text": [
      "Generating responses:  24%|██▍       | 243/1000 [06:05<15:15,  1.21s/it]"
     ]
    },
    {
     "name": "stdout",
     "output_type": "stream",
     "text": [
      "Failed to parse JSON for response from index 242: {\n",
      "  \"response\": \"The construction of the Lapis Niger is quite fascinating! It features a black stone platform that dates back to the 6th century BC. The site has undergone various modifications over the centuries, reflecting the architectural styles and techniques of different periods. The original structure was likely a simple shrine, but it evolved into a more complex site as the Romans added layers and elements to it. Given your interest in historic buildings, you might find it intriguing to explore how the construction techniques changed over time and how they reflect the cultural significance of\n",
      "Error: Unterminated string starting at: line 2 column 15 (char 16)\n",
      "\n"
     ]
    },
    {
     "name": "stderr",
     "output_type": "stream",
     "text": [
      "Generating responses:  25%|██▌       | 253/1000 [06:19<20:00,  1.61s/it]"
     ]
    },
    {
     "name": "stdout",
     "output_type": "stream",
     "text": [
      "Failed to parse JSON for response from index 252: {\n",
      "  \"response\": \"The Budweiser Stage is a fantastic outdoor concert venue located within Ontario Place. It has a beautiful view of Lake Ontario, which I know you love! The stage hosts a variety of performances, from popular music acts to local artists, making it a vibrant spot for entertainment. The atmosphere is lively, especially during the summer months when the weather is perfect for enjoying live music. Plus, being part of the redevelopment of Ontario Place, it reflects the Ontario themes you’re interested in. I think you’ll have a great time\n",
      "Error: Unterminated string starting at: line 2 column 15 (char 16)\n",
      "\n"
     ]
    },
    {
     "name": "stderr",
     "output_type": "stream",
     "text": [
      "Generating responses:  26%|██▋       | 265/1000 [06:34<16:57,  1.38s/it]"
     ]
    },
    {
     "name": "stdout",
     "output_type": "stream",
     "text": [
      "Failed to parse JSON for response from index 264: {\n",
      "  \"response\": \"The mortuary complexes associated with the Pyramid of Nyuserre include several important features. They typically consist of a mortuary temple, where rituals and offerings were made to honor the deceased pharaoh, and a series of smaller pyramids for queens and other royal family members. Additionally, there are often causeways leading to the valley temple, which served as the main entrance for the funerary processions. These complexes were designed to ensure the pharaoh's safe passage to the afterlife and to maintain their memory through ongoing worship\n",
      "Error: Unterminated string starting at: line 2 column 15 (char 16)\n",
      "\n"
     ]
    },
    {
     "name": "stderr",
     "output_type": "stream",
     "text": [
      "Generating responses:  28%|██▊       | 278/1000 [06:52<18:30,  1.54s/it]"
     ]
    },
    {
     "name": "stdout",
     "output_type": "stream",
     "text": [
      "Failed to parse JSON for response from index 277: {\n",
      "  \"response\": \"Yes, Georgetown Law is deeply committed to social justice and community service. The school has various programs that encourage students to engage in pro bono work and public interest law. They offer opportunities for students to work with underserved communities, providing legal assistance and advocacy. Additionally, Georgetown Law has a strong emphasis on clinical education, allowing students to gain hands-on experience while making a positive impact in the community. This aligns well with your interests as a law student and connoisseur of the law, as it not only enhances your legal education\n",
      "Error: Unterminated string starting at: line 2 column 15 (char 16)\n",
      "\n"
     ]
    },
    {
     "name": "stderr",
     "output_type": "stream",
     "text": [
      "Generating responses:  29%|██▉       | 294/1000 [07:14<15:10,  1.29s/it]"
     ]
    },
    {
     "name": "stdout",
     "output_type": "stream",
     "text": [
      "Failed to parse JSON for response from index 293: {\n",
      "  \"response\": \"The Aswan Dam, also known as the High Dam, is an impressive structure with a length of about 3,830 meters and a height of 111 meters. It is made primarily of rock and clay, and its reservoir, Lake Nasser, is one of the largest artificial lakes in the world, stretching over 500 kilometers. The dam's construction involved around 25,000 workers and engineers, and it plays a crucial role in regulating the Nile's flow, providing hydroelectric power, and supporting agriculture in\n",
      "Error: Unterminated string starting at: line 2 column 15 (char 16)\n",
      "\n"
     ]
    },
    {
     "name": "stderr",
     "output_type": "stream",
     "text": [
      "Generating responses:  30%|███       | 305/1000 [07:31<16:46,  1.45s/it]"
     ]
    },
    {
     "name": "stdout",
     "output_type": "stream",
     "text": [
      "Failed to parse JSON for response from index 304: {\n",
      "  \"response\": \"Sure! Smithfield is not only known for its historic meat market, but it also has a rich history and beautiful architecture. The area is filled with charming pubs and restaurants where you can enjoy a meal after exploring the market. Additionally, the nearby Charterhouse is a fascinating site with a history dating back to the 14th century, and it often hosts tours. If you're interested in Livery Halls, you might also want to check out the nearby Guildhall, which is an impressive building and a key part of\n",
      "Error: Unterminated string starting at: line 2 column 15 (char 16)\n",
      "\n"
     ]
    },
    {
     "name": "stderr",
     "output_type": "stream",
     "text": [
      "Generating responses:  31%|███       | 308/1000 [07:36<21:39,  1.88s/it]"
     ]
    },
    {
     "name": "stdout",
     "output_type": "stream",
     "text": [
      "Failed to parse JSON for response from index 307: {\n",
      "  \"response\": \"Yes, the Royal Military College Saint-Jean has a rich history and tradition in Quebec. It was established in 1952 and has been an important part of the Canadian military education system. The college is located on a historic site that dates back to the 17th century, which adds to its significance. The traditions upheld at the college reflect the values of the Canadian Armed Forces and contribute to a strong sense of community and discipline among the students. This could be a great opportunity for your children to not only receive a\n",
      "Error: Unterminated string starting at: line 2 column 15 (char 16)\n",
      "\n"
     ]
    },
    {
     "name": "stderr",
     "output_type": "stream",
     "text": [
      "Generating responses:  31%|███▏      | 313/1000 [07:43<18:33,  1.62s/it]"
     ]
    },
    {
     "name": "stdout",
     "output_type": "stream",
     "text": [
      "Failed to parse JSON for response from index 312: {\n",
      "  \"response\": \"Lascar Volcano is a fascinating place! It's known for its stunning landscapes and active geological features. The volcano reaches an elevation of about 5,592 meters, making it one of the highest in the region. The area around the volcano is also rich in unique flora and fauna, which can be quite interesting to observe. Additionally, the volcanic activity contributes to the formation of beautiful lava formations and craters. If you're lucky, you might even witness some of the gas emissions and eruptions, which can be quite spectacular.\n",
      "Error: Unterminated string starting at: line 2 column 15 (char 16)\n",
      "\n"
     ]
    },
    {
     "name": "stderr",
     "output_type": "stream",
     "text": [
      "Generating responses:  32%|███▏      | 316/1000 [07:47<17:06,  1.50s/it]"
     ]
    },
    {
     "name": "stdout",
     "output_type": "stream",
     "text": [
      "Failed to parse JSON for response from index 315: {\n",
      "  \"response\": \"The Grotte Des Pigeons, or Taforalt, is not only significant for its archaeological importance but also for its stunning natural beauty. The cave features impressive stalactites and stalagmites, and the surrounding area is rich in biodiversity. You can explore the ancient burial sites within the cave, which date back thousands of years, providing a fascinating glimpse into the past. Additionally, the region around Berkane offers beautiful landscapes and opportunities for hiking, making it a perfect destination for someone who enjoys both history and\n",
      "Error: Unterminated string starting at: line 2 column 15 (char 16)\n",
      "\n"
     ]
    },
    {
     "name": "stderr",
     "output_type": "stream",
     "text": [
      "Generating responses:  32%|███▏      | 322/1000 [07:57<18:35,  1.65s/it]"
     ]
    },
    {
     "name": "stdout",
     "output_type": "stream",
     "text": [
      "Failed to parse JSON for response from index 321: {\n",
      "  \"response\": \"The human history and exploitation of the El Laco area are quite fascinating. Historically, the region has been utilized for mining, particularly for its rich deposits of iron ore, including magnetite and hematite. These resources have attracted various mining operations over the years, especially given the high demand for iron in industrial applications. Additionally, the unique geological features of the area have made it a point of interest for geologists and researchers, contributing to our understanding of volcanic activity and mineral formation. However, the environmental impact of mining activities\n",
      "Error: Unterminated string starting at: line 2 column 15 (char 16)\n",
      "\n"
     ]
    },
    {
     "name": "stderr",
     "output_type": "stream",
     "text": [
      "Generating responses:  33%|███▎      | 326/1000 [08:02<17:06,  1.52s/it]"
     ]
    },
    {
     "name": "stdout",
     "output_type": "stream",
     "text": [
      "Failed to parse JSON for response from index 325: {\n",
      "  \"response\": \"The climate in Yarra Ranges National Park is quite varied due to its elevation and diverse landscapes. Generally, it experiences a temperate climate with cool winters and mild summers. You can expect average temperatures to range from about 5°C in winter to around 25°C in summer. The park also receives a fair amount of rainfall, especially in winter, which helps keep the rivers flowing beautifully. So, if you enjoy the outdoors, visiting during spring or autumn might be ideal for you to experience the vibrant flora and fauna\n",
      "Error: Unterminated string starting at: line 2 column 15 (char 16)\n",
      "\n"
     ]
    },
    {
     "name": "stderr",
     "output_type": "stream",
     "text": [
      "Generating responses:  33%|███▎      | 329/1000 [08:07<16:18,  1.46s/it]"
     ]
    },
    {
     "name": "stdout",
     "output_type": "stream",
     "text": [
      "Failed to parse JSON for response from index 328: {\n",
      "  \"response\": \"Absolutely! One fascinating aspect of the Wadden Sea is its dynamic nature. The tides create a constantly changing landscape, which means that every visit can offer a new experience. You might witness the mudflats being exposed during low tide, revealing a rich habitat for various species. Additionally, the park is a crucial stopover for migratory birds, so if you're visiting during migration seasons, you could see thousands of birds feeding and resting. Don't forget to bring your binoculars for birdwatching! Also, the local communities\n",
      "Error: Unterminated string starting at: line 2 column 15 (char 16)\n",
      "\n"
     ]
    },
    {
     "name": "stderr",
     "output_type": "stream",
     "text": [
      "Generating responses:  35%|███▌      | 352/1000 [08:42<14:55,  1.38s/it]"
     ]
    },
    {
     "name": "stdout",
     "output_type": "stream",
     "text": [
      "Failed to parse JSON for response from index 351: {\n",
      "  \"response\": \"The St Marys Stadium has a rich history that dates back to its opening in 2001. It was built to replace the old The Dell stadium, which had been the home of Southampton FC since 1898. The new stadium was designed to provide a modern experience for fans and to meet the requirements of the Premier League. Over the years, it has hosted numerous memorable matches and events, including international fixtures and concerts. The stadium has become an integral part of the Southampton community and a symbol of the club's ambitions\n",
      "Error: Unterminated string starting at: line 2 column 15 (char 16)\n",
      "\n"
     ]
    },
    {
     "name": "stderr",
     "output_type": "stream",
     "text": [
      "Generating responses:  36%|███▌      | 357/1000 [08:48<14:10,  1.32s/it]"
     ]
    },
    {
     "name": "stdout",
     "output_type": "stream",
     "text": [
      "Failed to parse JSON for response from index 356: {\n",
      "  \"response\": \"The University of Mississippi has a rich history beyond the civil rights movement. It was also the first university in the state to admit women in 1882. Additionally, the campus is home to several historic buildings, including the Lyceum, which is the oldest building on campus and has witnessed many significant events. If you're interested in history, you might enjoy exploring these sites and learning more about the university's role in various historical contexts. Plus, being in Oxford, you'll have the chance to immerse yourself in the local culture\n",
      "Error: Unterminated string starting at: line 2 column 15 (char 16)\n",
      "\n"
     ]
    },
    {
     "name": "stderr",
     "output_type": "stream",
     "text": [
      "Generating responses:  37%|███▋      | 366/1000 [09:02<17:43,  1.68s/it]"
     ]
    },
    {
     "name": "stdout",
     "output_type": "stream",
     "text": [
      "Failed to parse JSON for response from index 365: {\n",
      "  \"response\": \"Absolutely! You can visit the historic town of King's Lynn, which has a rich maritime history and beautiful architecture. The town features the stunning St. Nicholas' Chapel and the Old Custom House. Additionally, you might want to explore the nearby village of Snettisham, which is close to the nature reserve and offers lovely walks along the coast. If you're up for a bit of travel, the historic city of Norwich is not too far away, with its impressive cathedral and castle, showcasing the fascinating history of the region.\"\n",
      "\n",
      "Error: Expecting ',' delimiter: line 3 column 1 (char 546)\n",
      "\n"
     ]
    },
    {
     "name": "stderr",
     "output_type": "stream",
     "text": [
      "Generating responses:  37%|███▋      | 374/1000 [09:15<20:50,  2.00s/it]"
     ]
    },
    {
     "name": "stdout",
     "output_type": "stream",
     "text": [
      "Failed to parse JSON for response from index 373: {\n",
      "  \"response\": \"One Canada Square is quite fascinating! It was designed by architect Cesar Pelli and is known for its distinctive pyramid-shaped roof. The building was the tallest in the UK until 2012 and is a key part of the Canary Wharf skyline. If you're interested in design, you might appreciate its modernist style and the way it integrates with the surrounding area. There's also a great deal of history behind its construction, as it was part of the redevelopment of the Docklands in the late 20th century. I recommend checking\n",
      "Error: Unterminated string starting at: line 2 column 15 (char 16)\n",
      "\n"
     ]
    },
    {
     "name": "stderr",
     "output_type": "stream",
     "text": [
      "Generating responses:  39%|███▉      | 390/1000 [09:38<15:24,  1.52s/it]"
     ]
    },
    {
     "name": "stdout",
     "output_type": "stream",
     "text": [
      "Failed to parse JSON for response from index 389: {\n",
      "  \"response\": \"The silver kingdom, often referred to as the 'Sierra de la Plata,' was shrouded in mystery and allure. According to the legends, it was said to be ruled by the enigmatic White King, who was believed to possess immense wealth and power. The stories told of a land where silver flowed like rivers, attracting countless explorers and adventurers. However, the reality was far more complex. The indigenous peoples, who had their own rich cultures and histories, fiercely protected their lands and resources. The expeditions that\n",
      "Error: Unterminated string starting at: line 2 column 15 (char 16)\n",
      "\n"
     ]
    },
    {
     "name": "stderr",
     "output_type": "stream",
     "text": [
      "Generating responses:  39%|███▉      | 393/1000 [09:42<14:04,  1.39s/it]"
     ]
    },
    {
     "name": "stdout",
     "output_type": "stream",
     "text": [
      "Failed to parse JSON for response from index 392: {\n",
      "  \"response\": \"The Keoladeo National Park has a fascinating history! It was originally created in the 18th century as a hunting ground for the Maharajas of Bharatpur. Over time, it transformed into a sanctuary for birds, especially after the hunting practices were curtailed. In 1981, it was designated as a UNESCO World Heritage Site due to its rich biodiversity and ecological significance. The park's management has focused on conservation efforts, making it a vital habitat for both resident and migratory birds. It's a remarkable example\n",
      "Error: Unterminated string starting at: line 2 column 15 (char 16)\n",
      "\n"
     ]
    },
    {
     "name": "stderr",
     "output_type": "stream",
     "text": [
      "Generating responses:  41%|████      | 406/1000 [10:01<14:39,  1.48s/it]"
     ]
    },
    {
     "name": "stdout",
     "output_type": "stream",
     "text": [
      "Failed to parse JSON for response from index 405: {\n",
      "  \"response\": \"Beaver Stadium is one of the largest college football stadiums in the United States, with a seating capacity of over 100,000 fans. It's known for its electric atmosphere during game days, especially when the Penn State Nittany Lions take the field. The stadium features a classic design and has undergone several renovations to enhance the fan experience. If you get a chance to visit, you'll definitely want to soak in the pre-game festivities and the passionate support from the fans. It's truly a unique experience for any football enthusiast\n",
      "Error: Unterminated string starting at: line 2 column 15 (char 16)\n",
      "\n"
     ]
    },
    {
     "name": "stderr",
     "output_type": "stream",
     "text": [
      "Generating responses:  41%|████      | 409/1000 [10:05<13:50,  1.40s/it]"
     ]
    },
    {
     "name": "stdout",
     "output_type": "stream",
     "text": [
      "Failed to parse JSON for response from index 408: {\n",
      "  \"response\": \"The Meenakshi Temple is an architectural marvel, known for its stunning Dravidian style. The temple complex features intricate carvings, towering gopurams (gateway towers), and beautiful sculptures that depict various deities and mythological stories. The main deity, Meenakshi, is worshipped alongside her consort, Sundareshwarar. The temple has a rich history and is not only a place of worship but also a significant cultural landmark in Tamil Nadu. You’ll find that the vibrant festivals celebrated\n",
      "Error: Unterminated string starting at: line 2 column 15 (char 16)\n",
      "\n"
     ]
    },
    {
     "name": "stderr",
     "output_type": "stream",
     "text": [
      "Generating responses:  42%|████▏     | 419/1000 [10:20<14:07,  1.46s/it]"
     ]
    },
    {
     "name": "stdout",
     "output_type": "stream",
     "text": [
      "Failed to parse JSON for response from index 418: {\n",
      "  \"response\": \"The Second Sudanese Civil War was a conflict that lasted from 1983 to 2005, primarily between the Sudanese government and the Sudan People's Liberation Army (SPLA). It was rooted in issues of governance, religion, and ethnicity, and it resulted in significant loss of life and displacement of people. The war ended with the Comprehensive Peace Agreement in 2005, which eventually led to South Sudan gaining independence in 2011. The conflict had a profound impact on the region, including the Sudd, affecting\n",
      "Error: Unterminated string starting at: line 2 column 15 (char 16)\n",
      "\n"
     ]
    },
    {
     "name": "stderr",
     "output_type": "stream",
     "text": [
      "Generating responses:  44%|████▍     | 440/1000 [10:54<14:42,  1.58s/it]"
     ]
    },
    {
     "name": "stdout",
     "output_type": "stream",
     "text": [
      "Failed to parse JSON for response from index 439: {\n",
      "  \"response\": \"Chugach State Park is a stunning destination with a diverse range of landscapes, including mountains, forests, and rivers. Besides the Eagle River, you can also explore various trails that offer breathtaking views and opportunities to see wildlife, including black bears, which I know you're interested in! The park is home to a variety of animals, so keep your eyes peeled for moose and other wildlife as you hike. Additionally, the park has several scenic overlooks where you can take in the beauty of the Alaskan wilderness. It's definitely\n",
      "Error: Unterminated string starting at: line 2 column 15 (char 16)\n",
      "\n"
     ]
    },
    {
     "name": "stderr",
     "output_type": "stream",
     "text": [
      "Generating responses:  44%|████▍     | 444/1000 [11:00<15:38,  1.69s/it]"
     ]
    },
    {
     "name": "stdout",
     "output_type": "stream",
     "text": [
      "Failed to parse JSON for response from index 443: {\n",
      "  \"response\": \"The Grand Coulee region has become a popular destination for tourists, especially those who appreciate nature and outdoor activities. Visitors can enjoy hiking, fishing, and exploring the stunning landscapes, including the impressive Dry Falls and Banks Lake. The area also offers educational opportunities about the geological history and the importance of water conservation. Additionally, the Grand Coulee Dam itself is a significant attraction, providing tours that highlight its role in irrigation and energy production. Overall, it's a great spot for anyone interested in the beauty and preservation of our natural resources\n",
      "Error: Unterminated string starting at: line 2 column 15 (char 16)\n",
      "\n"
     ]
    },
    {
     "name": "stderr",
     "output_type": "stream",
     "text": [
      "Generating responses:  45%|████▌     | 453/1000 [11:12<13:04,  1.43s/it]"
     ]
    },
    {
     "name": "stdout",
     "output_type": "stream",
     "text": [
      "Failed to parse JSON for response from index 452: {\n",
      "  \"response\": \"After the Renaissance, the Campus Martius underwent significant changes as it became a center for artistic and architectural development. Many of the ancient structures were repurposed or integrated into new designs, reflecting the Renaissance ideals of beauty and symmetry. You would find that the area was adorned with fountains, gardens, and grand buildings, showcasing the revival of classical architecture. It became a vibrant hub of activity, blending the remnants of its ancient past with the innovations of the Renaissance. If you're interested, I can share more about specific buildings or\n",
      "Error: Unterminated string starting at: line 2 column 15 (char 16)\n",
      "\n"
     ]
    },
    {
     "name": "stderr",
     "output_type": "stream",
     "text": [
      "Generating responses:  47%|████▋     | 469/1000 [11:31<12:34,  1.42s/it]"
     ]
    },
    {
     "name": "stdout",
     "output_type": "stream",
     "text": [
      "Failed to parse JSON for response from index 468: {\n",
      "  \"response\": \"Fort Regent has a fascinating history beyond its initial construction. It was built in the 19th century as a defense against potential invasions, particularly during the Napoleonic Wars. The fort has seen various uses over the years, including as a barracks and a military hospital. You might also find it interesting that it played a role during World War II when the island was occupied by German forces. Today, it serves as a recreational facility, but the historical significance remains, making it a great spot for someone with your\n",
      "Error: Unterminated string starting at: line 2 column 15 (char 16)\n",
      "\n"
     ]
    },
    {
     "name": "stderr",
     "output_type": "stream",
     "text": [
      "Generating responses:  48%|████▊     | 477/1000 [11:46<14:45,  1.69s/it]"
     ]
    },
    {
     "name": "stdout",
     "output_type": "stream",
     "text": [
      "Failed to parse JSON for response from index 476: {\n",
      "  \"response\": \"Königstein Fortress has a rich military history. It was strategically built on a high rock plateau, making it a formidable stronghold. Throughout the centuries, it played a crucial role in various conflicts, serving as a defensive bastion for the region. The fortress was also used to store military supplies and housed troops, which contributed to its significance in the defense of Saxony. Its impressive walls and towers are a testament to the military architecture of the time, and exploring them can give you a deeper understanding of its historical\n",
      "Error: Unterminated string starting at: line 2 column 15 (char 16)\n",
      "\n"
     ]
    },
    {
     "name": "stderr",
     "output_type": "stream",
     "text": [
      "Generating responses:  49%|████▉     | 494/1000 [12:07<11:37,  1.38s/it]"
     ]
    },
    {
     "name": "stdout",
     "output_type": "stream",
     "text": [
      "Failed to parse JSON for response from index 493: {\n",
      "  \"response\": \"Nairobi National Park is a fantastic destination for tourism! It's unique because it's located just outside the capital city, Nairobi, allowing visitors to experience wildlife and nature without traveling far. The park is home to a variety of animals, including lions, giraffes, and rhinos, making it a great spot for safari tours. Additionally, the park offers various activities such as guided walks, bird watching, and photography opportunities. The combination of urban and natural environments makes it a truly special place for tourists interested in both wildlife and the\n",
      "Error: Unterminated string starting at: line 2 column 15 (char 16)\n",
      "\n"
     ]
    },
    {
     "name": "stderr",
     "output_type": "stream",
     "text": [
      "Generating responses:  50%|████▉     | 498/1000 [12:12<09:58,  1.19s/it]"
     ]
    },
    {
     "name": "stdout",
     "output_type": "stream",
     "text": [
      "Failed to parse JSON for response from index 497: {\n",
      "  \"response\": \"When visiting Efteling, you can expect a magical experience filled with enchanting attractions that bring your favorite fairy tales and ancient myths to life. You'll find beautifully themed rides, immersive storytelling, and stunning landscapes that create a whimsical atmosphere. Don't miss the Fairytale Forest, where you can stroll through scenes from classic stories, and be sure to try out the thrilling amusement rides that cater to your love for excitement. It's a place where fantasy and adventure come together, making it perfect for someone like you who enjoys theme parks and fair\n",
      "Error: Unterminated string starting at: line 2 column 15 (char 16)\n",
      "\n"
     ]
    },
    {
     "name": "stderr",
     "output_type": "stream",
     "text": [
      "Generating responses:  51%|█████     | 512/1000 [12:31<11:31,  1.42s/it]"
     ]
    },
    {
     "name": "stdout",
     "output_type": "stream",
     "text": [
      "Failed to parse JSON for response from index 511: {\n",
      "  \"response\": \"The Central Universal Science Nekrasov Library has a rich history that dates back to its founding in 1862. It was established to serve the educational and cultural needs of the public, and over the years, it has evolved into a significant cultural institution in Moscow. The library was named after Nikolai Nekrasov to honor his contributions to Russian literature and society. Throughout its history, the library has adapted to the changing needs of its community, expanding its collections and services. It has played a vital role in promoting literacy\n",
      "Error: Unterminated string starting at: line 2 column 15 (char 16)\n",
      "\n"
     ]
    },
    {
     "name": "stderr",
     "output_type": "stream",
     "text": [
      "Generating responses:  52%|█████▏    | 517/1000 [12:38<11:44,  1.46s/it]"
     ]
    },
    {
     "name": "stdout",
     "output_type": "stream",
     "text": [
      "Failed to parse JSON for response from index 516: {\n",
      "  \"response\": \"Absolutely! The Arulmigu Meenakshi Sundareshwarar Temple is not only architecturally stunning but also rich in history. It features intricate carvings and towering gopurams (gateway towers) that are a sight to behold. The temple is also famous for its annual Meenakshi Thirukalyanam festival, which attracts thousands of devotees. Additionally, the temple has a unique musical pillar that produces different musical notes when struck. As a devotee of Shiva, you'll appreciate the deep spiritual\n",
      "Error: Unterminated string starting at: line 2 column 15 (char 16)\n",
      "\n"
     ]
    },
    {
     "name": "stderr",
     "output_type": "stream",
     "text": [
      "Generating responses:  53%|█████▎    | 527/1000 [12:50<09:28,  1.20s/it]"
     ]
    },
    {
     "name": "stdout",
     "output_type": "stream",
     "text": [
      "Failed to parse JSON for response from index 526: {\n",
      "  \"response\": \"Unfortunately, the old stones from the Santa Maria de Ovila are scattered across various locations in California, so you won't be able to see them all in one place. It’s fascinating to think about how they were repurposed, but it would be amazing to see the original structure in person. If you ever get the chance to visit Spain, you might find it inspiring to explore the ruins and imagine what it was like back in the 12th century. Plus, being near the river in that area could add to\n",
      "Error: Unterminated string starting at: line 2 column 15 (char 16)\n",
      "\n"
     ]
    },
    {
     "name": "stderr",
     "output_type": "stream",
     "text": [
      "Generating responses:  53%|█████▎    | 532/1000 [12:57<12:02,  1.54s/it]"
     ]
    },
    {
     "name": "stdout",
     "output_type": "stream",
     "text": [
      "Failed to parse JSON for response from index 531: {\n",
      "  \"response\": \"The Monsey Church is not only a beautiful historic site but also has a rich community history. It features stunning architecture and often hosts various events that might interest you as a Christian. If you're looking for a place to connect with others in faith, this could be a great spot. Additionally, while the church may not currently have a Christian school, you might find nearby options by exploring the local community or asking your friend in Rockland County for recommendations. They might know of some good Christian schools in the area that you can\n",
      "Error: Unterminated string starting at: line 2 column 15 (char 16)\n",
      "\n"
     ]
    },
    {
     "name": "stderr",
     "output_type": "stream",
     "text": [
      "Generating responses:  54%|█████▍    | 543/1000 [13:12<11:48,  1.55s/it]"
     ]
    },
    {
     "name": "stdout",
     "output_type": "stream",
     "text": [
      "Failed to parse JSON for response from index 542: {\n",
      "  \"response\": \"The Allan Simonsen Pole Position Trophy is a special award given to the driver who achieves the fastest qualifying time for the Bathurst 12 Hour race. Named in honor of the late Allan Simonsen, a talented racer who tragically lost his life during a race in 2013, the trophy serves as a tribute to his legacy and passion for motorsport. It highlights the importance of qualifying in endurance racing, where starting position can significantly impact a team's performance. Given your interest in racers and cars, this trophy\n",
      "Error: Unterminated string starting at: line 2 column 15 (char 16)\n",
      "\n"
     ]
    },
    {
     "name": "stderr",
     "output_type": "stream",
     "text": [
      "Generating responses:  55%|█████▌    | 550/1000 [13:21<09:48,  1.31s/it]"
     ]
    },
    {
     "name": "stdout",
     "output_type": "stream",
     "text": [
      "Failed to parse JSON for response from index 549: {\n",
      "  \"response\": \"Mormon was a prophet and military leader among the Nephites, a people described in the Book of Mormon. He is known for compiling the records of his people and for leading them during a time of great conflict with the Lamanites. His writings are significant as they provide insight into the history and teachings of the Nephites, and he ultimately deposited these records in the hill Cumorah before the Nephite civilization fell. His story is quite fascinating, especially considering your interest in the Nephites and the\n",
      "Error: Unterminated string starting at: line 2 column 15 (char 16)\n",
      "\n"
     ]
    },
    {
     "name": "stderr",
     "output_type": "stream",
     "text": [
      "Generating responses:  58%|█████▊    | 576/1000 [13:56<11:25,  1.62s/it]"
     ]
    },
    {
     "name": "stdout",
     "output_type": "stream",
     "text": [
      "Failed to parse JSON for response from index 575: {\n",
      "  \"response\": \"While the British Institution did provide a platform for artists to showcase their work, the incentives were quite limited, especially for those who were not part of the elite circle. The exhibitions offered exposure, but the conservative nature of the institution often stifled the creativity of many artists. It’s a shame that such a significant venue had such a restrictive approach, especially when you consider how much you value inclusivity and the abolishment of hierarchy in art. It makes you appreciate the more open and diverse spaces for artists today, doesn't\n",
      "Error: Unterminated string starting at: line 2 column 15 (char 16)\n",
      "\n"
     ]
    },
    {
     "name": "stderr",
     "output_type": "stream",
     "text": [
      "Generating responses:  58%|█████▊    | 585/1000 [14:12<10:54,  1.58s/it]"
     ]
    },
    {
     "name": "stdout",
     "output_type": "stream",
     "text": [
      "Failed to parse JSON for response from index 584: {\n",
      "  \"response\": \"Absolutely! Mayapan was a significant hub for trade and cultural exchange in the region. It had extensive trade networks with other Mesoamerican cultures, including the Aztecs and the Mixtecs. The Maya traded goods such as cacao, textiles, and ceramics, which were highly valued. Additionally, Mayapan's strategic location allowed it to serve as a meeting point for various groups, facilitating not just trade but also the exchange of ideas and cultural practices. This interaction likely influenced the development of their society and economy during the\n",
      "Error: Unterminated string starting at: line 2 column 15 (char 16)\n",
      "\n"
     ]
    },
    {
     "name": "stderr",
     "output_type": "stream",
     "text": [
      "Generating responses:  59%|█████▉    | 591/1000 [14:21<10:17,  1.51s/it]"
     ]
    },
    {
     "name": "stdout",
     "output_type": "stream",
     "text": [
      "Failed to parse JSON for response from index 590: {\n",
      "  \"response\": \"Sure! MEMS Priestfield Stadium is primarily used for football matches, being the home ground of Gillingham F.C. However, it has a rich history and has hosted various events, including rugby league matches. The stadium has a capacity of around 11,582 and offers a great atmosphere for fans. Since you're interested in rugby league, you might want to check if there are any upcoming matches during your visit. Plus, being in Gillingham, it will be a fantastic opportunity to explore the local area with\n",
      "Error: Unterminated string starting at: line 2 column 15 (char 16)\n",
      "\n"
     ]
    },
    {
     "name": "stderr",
     "output_type": "stream",
     "text": [
      "Generating responses:  62%|██████▏   | 621/1000 [15:06<08:41,  1.37s/it]"
     ]
    },
    {
     "name": "stdout",
     "output_type": "stream",
     "text": [
      "Failed to parse JSON for response from index 620: {\n",
      "  \"response\": \"Absolutely! The Lurie Garden is not just about the plants; it's also designed to be a habitat for wildlife, attracting butterflies and birds, which adds to its charm. The garden features a beautiful mix of perennials, grasses, and shrubs that bloom throughout the seasons, ensuring there's always something to see. Plus, the pathways are designed to encourage exploration, making it a perfect spot for someone who appreciates artistic expressions in nature. You might also enjoy the stunning views of the city skyline from various points in the garden, creating\n",
      "Error: Unterminated string starting at: line 2 column 15 (char 16)\n",
      "\n"
     ]
    },
    {
     "name": "stderr",
     "output_type": "stream",
     "text": [
      "Generating responses:  62%|██████▏   | 622/1000 [15:08<09:01,  1.43s/it]"
     ]
    },
    {
     "name": "stdout",
     "output_type": "stream",
     "text": [
      "Failed to parse JSON for response from index 621: {\n",
      "  \"response\": \"The excavation of the Lapis Niger was quite significant! It was first uncovered in the early 20th century, and archaeologists found that it contained inscriptions and remnants that date back to the Roman Republic. The site has provided valuable insights into the religious practices of ancient Rome and the political significance of the Comitium. Since you're reading about the Comitium, you'll find it fascinating to see how these excavations have helped us understand the early political and social structures of Rome. It's definitely a place rich in history that you won't\n",
      "Error: Unterminated string starting at: line 2 column 15 (char 16)\n",
      "\n"
     ]
    },
    {
     "name": "stderr",
     "output_type": "stream",
     "text": [
      "Generating responses:  64%|██████▎   | 636/1000 [15:28<08:06,  1.34s/it]"
     ]
    },
    {
     "name": "stdout",
     "output_type": "stream",
     "text": [
      "Failed to parse JSON for response from index 635: {\n",
      "  \"response\": \"If you visit Katong, you'll find a vibrant mix of culture and history. You can explore the beautiful Peranakan shophouses and learn about the unique heritage of the area. Don't miss out on trying the famous Katong laksa at one of the local eateries; it's a must for noodle lovers like you! Additionally, you can stroll along the East Coast Park, which offers lovely seaside views and a chance to relax by the beach. The area is also home to several heritage sites and temples that reflect its rich\n",
      "Error: Unterminated string starting at: line 2 column 15 (char 16)\n",
      "\n"
     ]
    },
    {
     "name": "stderr",
     "output_type": "stream",
     "text": [
      "Generating responses:  65%|██████▍   | 648/1000 [15:46<08:59,  1.53s/it]"
     ]
    },
    {
     "name": "stdout",
     "output_type": "stream",
     "text": [
      "Failed to parse JSON for response from index 647: {\n",
      "  \"response\": \"One interesting fact about the Bayerisches Armeemuseum is that it not only showcases military artifacts but also emphasizes the cultural and social aspects of military history. You might find the exhibitions on the everyday life of soldiers and their families particularly fascinating, as they provide a deeper understanding of the historical context. Additionally, the museum often hosts special exhibitions and events that focus on different aspects of military history, so it could be worth checking their schedule during your visit. This could enhance your experience, especially given your interest in peacekeeping missions and\n",
      "Error: Unterminated string starting at: line 2 column 15 (char 16)\n",
      "\n"
     ]
    },
    {
     "name": "stderr",
     "output_type": "stream",
     "text": [
      "Generating responses:  69%|██████▉   | 689/1000 [16:45<07:35,  1.46s/it]"
     ]
    },
    {
     "name": "stdout",
     "output_type": "stream",
     "text": [
      "Failed to parse JSON for response from index 688: {\n",
      "  \"response\": \"The Tybee Island Lighthouse is not only historic but also offers stunning views of the surrounding area. You can climb the 178 steps to the top for a breathtaking panorama of the beach and the Atlantic Ocean. The lighthouse has a rich history, having served as a beacon for ships since the 18th century. Additionally, the nearby Tybee Island Museum provides more insights into the island's past, which might pique your interest in history. Don't forget to check out the beautiful beach while you're there; it's perfect for relaxing after\n",
      "Error: Unterminated string starting at: line 2 column 15 (char 16)\n",
      "\n"
     ]
    },
    {
     "name": "stderr",
     "output_type": "stream",
     "text": [
      "Generating responses:  69%|██████▉   | 691/1000 [16:47<07:36,  1.48s/it]"
     ]
    },
    {
     "name": "stdout",
     "output_type": "stream",
     "text": [
      "Failed to parse JSON for response from index 690: {\n",
      "  \"response\": \"Absolutely! In addition to being a safe and walkable area, Stanley Street Quarter is vibrant with a variety of bars, clubs, and cafes that cater to the LGBT community. You can enjoy events throughout the year, including Pride celebrations and cultural festivals. The area is also rich in history, so you might want to explore some of the local heritage sites and learn more about Liverpool's contributions to LGBT rights. It's a great place to meet new people and immerse yourself in the community. Make sure to check out the local events\n",
      "Error: Unterminated string starting at: line 2 column 15 (char 16)\n",
      "\n"
     ]
    },
    {
     "name": "stderr",
     "output_type": "stream",
     "text": [
      "Generating responses:  70%|██████▉   | 699/1000 [16:58<07:21,  1.47s/it]"
     ]
    },
    {
     "name": "stdout",
     "output_type": "stream",
     "text": [
      "Failed to parse JSON for response from index 698: {\n",
      "  \"response\": \"Strömsborg is a small island located in the central part of Stockholm, situated in the waters of the Norrström river. It is known for its picturesque views and charming architecture. The island is primarily residential and features a few notable buildings, including the Strömsborg House, which dates back to the 19th century. While it may not be as famous as Gamla Stan, it offers a peaceful retreat and a unique perspective of the city, making it a lovely spot for a leisurely stroll or a\n",
      "Error: Unterminated string starting at: line 2 column 15 (char 16)\n",
      "\n"
     ]
    },
    {
     "name": "stderr",
     "output_type": "stream",
     "text": [
      "Generating responses:  71%|███████▏  | 714/1000 [17:19<08:05,  1.70s/it]"
     ]
    },
    {
     "name": "stdout",
     "output_type": "stream",
     "text": [
      "Failed to parse JSON for response from index 713: {\n",
      "  \"response\": \"The Englischer Garten is not just vast in size; it's a beautiful blend of nature and design that reflects the ideals of landscape architecture. It features picturesque walking paths, serene lakes, and even a traditional beer garden, making it a perfect spot for relaxation and recreation. The park is designed to feel natural, with meandering streams and lush greenery, which is a hallmark of the informal landscape style you appreciate. Additionally, it hosts various cultural events and activities throughout the year, making it a vibrant part of Munich's urban life\n",
      "Error: Unterminated string starting at: line 2 column 15 (char 16)\n",
      "\n"
     ]
    },
    {
     "name": "stderr",
     "output_type": "stream",
     "text": [
      "Generating responses:  78%|███████▊  | 779/1000 [18:50<05:26,  1.48s/it]"
     ]
    },
    {
     "name": "stdout",
     "output_type": "stream",
     "text": [
      "Failed to parse JSON for response from index 778: {\n",
      "  \"response\": \"The Padmanabhaswamy Temple is not only significant for its religious importance but also for its architectural beauty. It showcases a blend of Kerala and Dravidian styles, with intricate carvings and a stunning gopuram (tower). The temple is also known for its rich history and the treasures that were discovered there, which have sparked much interest among historians and archaeologists. If you're keen on exploring, the temple complex has a serene atmosphere, and you might enjoy learning about the various rituals and festivals celebrated there.\n",
      "Error: Unterminated string starting at: line 2 column 15 (char 16)\n",
      "\n"
     ]
    },
    {
     "name": "stderr",
     "output_type": "stream",
     "text": [
      "Generating responses:  78%|███████▊  | 781/1000 [18:53<05:46,  1.58s/it]"
     ]
    },
    {
     "name": "stdout",
     "output_type": "stream",
     "text": [
      "Failed to parse JSON for response from index 780: {\n",
      "  \"response\": \"Glen Affric has a rich history! It was once a significant area for the local clans, particularly the MacKenzies and the Chisholms. The river itself has been a vital resource for the communities, providing water and supporting agriculture. The landscape is also steeped in stories of battles and clan rivalries from the 15th century. If you're interested in hiking, there are some fantastic trails that not only offer stunning views but also take you through areas with historical significance. You might even come across\n",
      "Error: Unterminated string starting at: line 2 column 15 (char 16)\n",
      "\n"
     ]
    },
    {
     "name": "stderr",
     "output_type": "stream",
     "text": [
      "Generating responses:  78%|███████▊  | 785/1000 [18:58<05:10,  1.45s/it]"
     ]
    },
    {
     "name": "stdout",
     "output_type": "stream",
     "text": [
      "Failed to parse JSON for response from index 784: {\n",
      "  \"response\": \"The Hinterkaifeck murders remain one of Germany's most infamous unsolved cases. Despite numerous investigations and theories over the years, the identity of the murderer has never been discovered. The eerie circumstances surrounding the case, including strange occurrences reported by the Gruber family before the murders, have fueled speculation and intrigue. It's fascinating yet tragic, especially considering the victims were a family much like yours, living on a farmstead. If you ever visit Germany, it might be interesting to explore the site and learn more about this haunting\n",
      "Error: Unterminated string starting at: line 2 column 15 (char 16)\n",
      "\n"
     ]
    },
    {
     "name": "stderr",
     "output_type": "stream",
     "text": [
      "Generating responses:  79%|███████▉  | 791/1000 [19:08<05:43,  1.64s/it]"
     ]
    },
    {
     "name": "stdout",
     "output_type": "stream",
     "text": [
      "Failed to parse JSON for response from index 790: {\n",
      "  \"response\": \"Certainly! Portsmouth Cathedral has a rich history that dates back to the 12th century. Originally built as a church, it became a cathedral in 1927. The cathedral has undergone several renovations and restorations over the years, especially after being damaged during World War II. Its architecture reflects various styles, including Norman and Gothic elements, which you might find fascinating given your interest in architecture. Additionally, the cathedral has played a significant role in the community and continues to be a place of worship and music, which aligns with\n",
      "Error: Unterminated string starting at: line 2 column 15 (char 16)\n",
      "\n"
     ]
    },
    {
     "name": "stderr",
     "output_type": "stream",
     "text": [
      "Generating responses:  81%|████████▏ | 813/1000 [19:36<04:21,  1.40s/it]"
     ]
    },
    {
     "name": "stdout",
     "output_type": "stream",
     "text": [
      "Failed to parse JSON for response from index 812: {\n",
      "  \"response\": \"The Gardiner Museum offers a variety of programs for visitors, including guided tours that delve into the history and significance of the ceramic collections. They also host workshops where you can get hands-on experience with pottery and porcelain techniques, which would be perfect for you since you've been taking pottery classes. Additionally, there are often special exhibitions and events that focus on different aspects of ceramic art, so you might find some exciting activities to participate in during your visit. It's a great way to deepen your understanding of porcelain and connect with other art\n",
      "Error: Unterminated string starting at: line 2 column 15 (char 16)\n",
      "\n"
     ]
    },
    {
     "name": "stderr",
     "output_type": "stream",
     "text": [
      "Generating responses:  82%|████████▏ | 820/1000 [19:44<03:43,  1.24s/it]"
     ]
    },
    {
     "name": "stdout",
     "output_type": "stream",
     "text": [
      "Failed to parse JSON for response from index 819: {\n",
      "  \"response\": \"The Leyen family, like the Geroldsecks and Kronbergs, has a rich history tied to the Holy Roman Empire. They were originally from the region of the Moselle and became prominent in the 12th century. The Leyen family held various titles and lands, and they were known for their involvement in the politics of the Empire. Their influence extended through several centuries, and they played a significant role in the feudal system of the time. If you're interested in historic figures, you might find their contributions\n",
      "Error: Unterminated string starting at: line 2 column 15 (char 16)\n",
      "\n"
     ]
    },
    {
     "name": "stderr",
     "output_type": "stream",
     "text": [
      "Generating responses:  83%|████████▎ | 830/1000 [20:04<04:58,  1.76s/it]"
     ]
    },
    {
     "name": "stdout",
     "output_type": "stream",
     "text": [
      "Failed to parse JSON for response from index 829: {\n",
      "  \"response\": \"Kangla means 'the land of the kings' in the local language, reflecting its historical significance as the seat of power in Manipur. It's fascinating how such places carry the weight of history and culture, isn't it? I can only imagine how incredible it would be to walk through the remnants of the palace and feel the stories of the past come alive, especially being so close to the Imphal River. It’s a shame that some people undervalue these heritage sites; they are treasures that tell us so much about\n",
      "Error: Unterminated string starting at: line 2 column 15 (char 16)\n",
      "\n"
     ]
    },
    {
     "name": "stderr",
     "output_type": "stream",
     "text": [
      "Generating responses:  85%|████████▌ | 853/1000 [20:34<03:04,  1.25s/it]"
     ]
    },
    {
     "name": "stdout",
     "output_type": "stream",
     "text": [
      "Failed to parse JSON for response from index 852: {\n",
      "  \"response\": \"Certainly! The Cathedral of San Salvador is not only a stunning architectural marvel but also a significant historical site. One interesting fact is that it houses the famous 'Crucifixion of San Salvador,' a remarkable piece of medieval art. Additionally, the cathedral is a pilgrimage site, as it is part of the Camino de Santiago route. You might also find it fascinating that the cathedral's construction reflects the evolution of the Asturian kingdom, showcasing the region's rich history and cultural heritage. If you ever visit Oviedo,\n",
      "Error: Unterminated string starting at: line 2 column 15 (char 16)\n",
      "\n"
     ]
    },
    {
     "name": "stderr",
     "output_type": "stream",
     "text": [
      "Generating responses:  86%|████████▌ | 861/1000 [20:45<03:23,  1.47s/it]"
     ]
    },
    {
     "name": "stdout",
     "output_type": "stream",
     "text": [
      "Failed to parse JSON for response from index 860: {\n",
      "  \"response\": \"The Fifth Avenue Presbyterian Church is also known for its rich history, having been established in the mid-19th century. It has hosted many notable figures and events over the years. Additionally, the church's design incorporates beautiful stained glass windows, which, while minimal, add a touch of elegance to the austere interior. The church's commitment to community service and outreach programs is another aspect that makes it stand out, reflecting the values of Presbyterianism. You might find it fascinating to explore how the church balances its aesthetic simplicity\n",
      "Error: Unterminated string starting at: line 2 column 15 (char 16)\n",
      "\n"
     ]
    },
    {
     "name": "stderr",
     "output_type": "stream",
     "text": [
      "Generating responses:  87%|████████▋ | 871/1000 [20:58<03:39,  1.70s/it]"
     ]
    },
    {
     "name": "stdout",
     "output_type": "stream",
     "text": [
      "Failed to parse JSON for response from index 870: {\n",
      "  \"response\": \"The Royal Observatory, Edinburgh offers a variety of site visits that can be quite engaging, especially for someone like you who loves astronomy. They typically have guided tours that include access to the historic telescopes and the visitor center, where you can learn more about their research and educational programs. Additionally, they often host public events and stargazing nights, which would be a fantastic opportunity for you to see the night sky through their telescopes. I recommend checking their website closer to your visit for the latest information on scheduled tours and\n",
      "Error: Unterminated string starting at: line 2 column 15 (char 16)\n",
      "\n"
     ]
    },
    {
     "name": "stderr",
     "output_type": "stream",
     "text": [
      "Generating responses:  87%|████████▋ | 874/1000 [21:02<03:12,  1.53s/it]"
     ]
    },
    {
     "name": "stdout",
     "output_type": "stream",
     "text": [
      "Failed to parse JSON for response from index 873: {\n",
      "  \"response\": \"Kaziranga National Park is not only famous for its rhinos but also for its diverse wildlife, including elephants and various bird species. It's a UNESCO World Heritage Site, which adds to its charm. The park is home to the largest population of the Indian one-horned rhinoceros, and you might also spot elephants roaming freely. Additionally, the park has beautiful landscapes with grasslands, wetlands, and forests, making it a photographer's paradise. If you're lucky, you might even catch a glimpse of some rare\n",
      "Error: Unterminated string starting at: line 2 column 15 (char 16)\n",
      "\n"
     ]
    },
    {
     "name": "stderr",
     "output_type": "stream",
     "text": [
      "Generating responses:  88%|████████▊ | 883/1000 [21:14<03:01,  1.55s/it]"
     ]
    },
    {
     "name": "stdout",
     "output_type": "stream",
     "text": [
      "Failed to parse JSON for response from index 882: {\n",
      "  \"response\": \"Coalhouse Fort has some fascinating features! It has a unique design with thick walls and a moat, which were essential for its defensive purpose. Additionally, the fort is surrounded by beautiful parkland, making it a great spot for a leisurely visit. You might also find it interesting that the fort has been used for various events and activities over the years, including film shoots. Plus, if you're a fan of military history, there are often exhibitions and guided tours that delve deeper into its role during the Victorian era and the Second\n",
      "Error: Unterminated string starting at: line 2 column 15 (char 16)\n",
      "\n"
     ]
    },
    {
     "name": "stderr",
     "output_type": "stream",
     "text": [
      "Generating responses:  89%|████████▉ | 894/1000 [21:29<02:50,  1.61s/it]"
     ]
    },
    {
     "name": "stdout",
     "output_type": "stream",
     "text": [
      "Failed to parse JSON for response from index 893: {\n",
      "  \"response\": \"Absolutely! Fleet Street has a rich history beyond its association with journalism. It was once the center of the printing industry in London, and many famous writers and poets, including Charles Dickens, had connections to the area. Additionally, the street is home to several historic pubs, like the Old Bell Tavern, which has been serving patrons since the 17th century. You might also find it interesting that Fleet Street was once the location of the famous 'Sweeney Todd' legend, which adds a layer of intrigue to its already\n",
      "Error: Unterminated string starting at: line 2 column 15 (char 16)\n",
      "\n"
     ]
    },
    {
     "name": "stderr",
     "output_type": "stream",
     "text": [
      "Generating responses:  90%|████████▉ | 899/1000 [21:36<02:26,  1.46s/it]"
     ]
    },
    {
     "name": "stdout",
     "output_type": "stream",
     "text": [
      "Failed to parse JSON for response from index 898: {\n",
      "  \"response\": \"Katmai National Park and Preserve is a stunning destination that offers a unique blend of natural beauty and wildlife. Besides the impressive brown bears and the fascinating volcanic landscape, you can also enjoy the breathtaking views of the Valley of Ten Thousand Smokes. The park is a haven for outdoor enthusiasts, with opportunities for fishing, especially for the delicious sockeye salmon, which you might enjoy. Plus, the boat tours will give you a chance to explore the park's waterways and get up close to its incredible scenery. It's truly a place\n",
      "Error: Unterminated string starting at: line 2 column 15 (char 16)\n",
      "\n"
     ]
    },
    {
     "name": "stderr",
     "output_type": "stream",
     "text": [
      "Generating responses:  91%|█████████ | 910/1000 [21:51<01:58,  1.31s/it]"
     ]
    },
    {
     "name": "stdout",
     "output_type": "stream",
     "text": [
      "Failed to parse JSON for response from index 909: {\n",
      "  \"response\": \"The national park on Dunk Island is a stunning natural reserve that showcases the island's rich biodiversity and unique wildlife. You'll find lush rainforests, beautiful beaches, and a variety of walking trails that allow you to explore the island's flora and fauna. It's a great place to observe the local wildlife, including birds, reptiles, and marine life. The park also has significant cultural heritage, reflecting the history of the Aboriginal people who have lived there for thousands of years. It's a perfect spot for both relaxation and adventure during your\n",
      "Error: Unterminated string starting at: line 2 column 15 (char 16)\n",
      "\n"
     ]
    },
    {
     "name": "stderr",
     "output_type": "stream",
     "text": [
      "Generating responses:  92%|█████████▏| 916/1000 [21:59<01:58,  1.41s/it]"
     ]
    },
    {
     "name": "stdout",
     "output_type": "stream",
     "text": [
      "Failed to parse JSON for response from index 915: {\n",
      "  \"response\": \"Another interesting fact about Van Cortlandt Park is that it has a rich history beyond the Wappinger people. The park was established in 1888 and is one of the largest parks in New York City. It also features the Van Cortlandt House Museum, which is the oldest house in the Bronx, dating back to the 18th century. Additionally, the park is home to a variety of wildlife, making it a great spot for birdwatching, so you might just spot that woodpecker you're\n",
      "Error: Unterminated string starting at: line 2 column 15 (char 16)\n",
      "\n"
     ]
    },
    {
     "name": "stderr",
     "output_type": "stream",
     "text": [
      "Generating responses:  98%|█████████▊| 975/1000 [23:16<00:32,  1.30s/it]"
     ]
    },
    {
     "name": "stdout",
     "output_type": "stream",
     "text": [
      "Failed to parse JSON for response from index 974: {\n",
      "  \"response\": \"In addition to the blue whale skeleton, the Beaty Biodiversity Museum has an impressive fossil collection that includes various prehistoric animal fossils. You can find fossils of ancient marine reptiles, like ichthyosaurs and plesiosaurs, which are fascinating to see. There are also dinosaur fossils, including some from the Cretaceous period, which showcase the diversity of life that once roamed the Earth. The museum often features rotating exhibits, so you might even catch a glimpse of some rare finds or special displays related to prehistoric life during\n",
      "Error: Unterminated string starting at: line 2 column 15 (char 16)\n",
      "\n"
     ]
    },
    {
     "name": "stderr",
     "output_type": "stream",
     "text": [
      "Generating responses: 100%|██████████| 1000/1000 [23:51<00:00,  1.43s/it]\n"
     ]
    }
   ],
   "source": [
    "import openai\n",
    "import time\n",
    "import re\n",
    "import json\n",
    "import os\n",
    "from tqdm import tqdm\n",
    "import pandas as pd\n",
    "\n",
    "# Initialize OpenAI client once\n",
    "client = openai.OpenAI()\n",
    "\n",
    "gen_responses = []\n",
    "reasoning_responses = []\n",
    "response_times = []\n",
    "\n",
    "# Determine COT_ value based on COT_SETUP\n",
    "COT_ = \"-COT\" if COT_SETUP else \"\"\n",
    "\n",
    "# Ensure the debugging logs directory exists\n",
    "log_dir = \"./debugging logs\"\n",
    "os.makedirs(log_dir, exist_ok=True)\n",
    "\n",
    "# Prepare the log file path\n",
    "log_file_path = os.path.join(log_dir, f'{Dataset}_{LLM_name}_{COT_}.txt')\n",
    "\n",
    "# Open the log file for writing\n",
    "with open(log_file_path, 'w') as log_file:\n",
    "\n",
    "    for index, row in tqdm(df.iterrows(), total=len(df), desc=\"Generating responses\"):\n",
    "        personas = row['personas']\n",
    "        context = row['context']\n",
    "\n",
    "        prompt = create_prompt(personas, context, COT_SETUP)\n",
    "\n",
    "        # Measure the start time\n",
    "        start_time = time.time()\n",
    "\n",
    "        # Generate a response from the model using the updated API\n",
    "        chat_completion = client.chat.completions.create(\n",
    "            model=LLM_name,\n",
    "            messages=[\n",
    "                {\"role\": \"system\", \"content\": \"You are a helpful response generator to output JSON.\"},\n",
    "                {\"role\": \"user\", \"content\": prompt}\n",
    "            ],\n",
    "            temperature=0,  # Based on FELM paper (Greedy Setup)\n",
    "            max_tokens= MAX_NEW_TOKEN  # Based on max response length + reasoning\n",
    "        )\n",
    "\n",
    "        # Measure the end time and calculate the duration\n",
    "        end_time = time.time()\n",
    "        response_time = end_time - start_time\n",
    "\n",
    "        # Retrieve and return the response text\n",
    "        response_text = chat_completion.choices[0].message.content\n",
    "\n",
    "        # # Clean the response to ensure proper JSON parsing\n",
    "        # cleaned_response = response_text.replace('\\n', ' ').replace('\\r', '').strip().strip('\"')\n",
    "\n",
    "        # # # Attempt to automatically fix missing commas in JSON\n",
    "        # # cleaned_response = re.sub(r'\\\"\\s*\\\"', '\", \"', cleaned_response)\n",
    "\n",
    "        # # # Check if the response ends with '}' and attempt to fix if not\n",
    "        # # if not cleaned_response.endswith('}'):\n",
    "        # #     cleaned_response += '}'\n",
    "\n",
    "        try:\n",
    "            response_data = json.loads(response_text)\n",
    "            gen_responses.append(response_data.get('response', ''))\n",
    "\n",
    "            if COT_SETUP:\n",
    "                reasoning_responses.append(response_data.get('reasoning', ''))\n",
    "            else:\n",
    "                reasoning_responses.append('')  # Fill with empty string if COT_SETUP is False\n",
    "        \n",
    "        except json.JSONDecodeError as e:\n",
    "            error_message = (f\"Failed to parse JSON for response from index {index}: {response_text}\\n\"\n",
    "                             f\"Error: {str(e)}\\n\")\n",
    "            print(error_message)\n",
    "            log_file.write(error_message + \"\\n\")\n",
    "\n",
    "\n",
    "            # gen_responses.append('Error parsing response')\n",
    "            # reasoning_responses.append('Error parsing response')\n",
    "\n",
    "            gen_responses.append(None)\n",
    "            reasoning_responses.append(None)\n",
    "\n",
    "\n",
    "        # Store the response time\n",
    "        response_times.append(response_time)\n",
    "\n",
    "# Create the response DataFrame based on the COT_SETUP value\n",
    "if COT_SETUP:\n",
    "    response_df = pd.DataFrame({\n",
    "        'gen_response': gen_responses,\n",
    "        'reasoning': reasoning_responses,\n",
    "        'response_time': response_times\n",
    "    })\n",
    "else:\n",
    "    response_df = pd.DataFrame({\n",
    "        'gen_response': gen_responses,\n",
    "        'response_time': response_times\n",
    "    })\n",
    " \n",
    "# Save the response DataFrame to a CSV file\n",
    "response_df.to_csv(f'./Responses/{Dataset}/{LLM_name}{COT_}.csv', index=False)\n"
   ]
  },
  {
   "cell_type": "code",
   "execution_count": 9,
   "metadata": {},
   "outputs": [
    {
     "data": {
      "text/html": [
       "<div>\n",
       "<style scoped>\n",
       "    .dataframe tbody tr th:only-of-type {\n",
       "        vertical-align: middle;\n",
       "    }\n",
       "\n",
       "    .dataframe tbody tr th {\n",
       "        vertical-align: top;\n",
       "    }\n",
       "\n",
       "    .dataframe thead th {\n",
       "        text-align: right;\n",
       "    }\n",
       "</style>\n",
       "<table border=\"1\" class=\"dataframe\">\n",
       "  <thead>\n",
       "    <tr style=\"text-align: right;\">\n",
       "      <th></th>\n",
       "      <th>gen_response</th>\n",
       "      <th>response_time</th>\n",
       "    </tr>\n",
       "  </thead>\n",
       "  <tbody>\n",
       "    <tr>\n",
       "      <th>0</th>\n",
       "      <td>Nazareth House has a rich history that reflect...</td>\n",
       "      <td>1.281389</td>\n",
       "    </tr>\n",
       "    <tr>\n",
       "      <th>1</th>\n",
       "      <td>The Truman Galusha House served as a gathering...</td>\n",
       "      <td>1.123755</td>\n",
       "    </tr>\n",
       "    <tr>\n",
       "      <th>2</th>\n",
       "      <td>The Marion Palace Theatre is a stunning exampl...</td>\n",
       "      <td>1.342017</td>\n",
       "    </tr>\n",
       "    <tr>\n",
       "      <th>3</th>\n",
       "      <td>Technische Universität Darmstadt is highly reg...</td>\n",
       "      <td>1.298877</td>\n",
       "    </tr>\n",
       "    <tr>\n",
       "      <th>4</th>\n",
       "      <td>In addition to St Botolph's Church, you might ...</td>\n",
       "      <td>1.497569</td>\n",
       "    </tr>\n",
       "    <tr>\n",
       "      <th>5</th>\n",
       "      <td>Oakland University offers a wide range of unde...</td>\n",
       "      <td>1.484201</td>\n",
       "    </tr>\n",
       "    <tr>\n",
       "      <th>6</th>\n",
       "      <td>The Westin St. Francis is owned by Marriott In...</td>\n",
       "      <td>0.943593</td>\n",
       "    </tr>\n",
       "    <tr>\n",
       "      <th>7</th>\n",
       "      <td>In addition to the Chaos Crags and Crags Lake ...</td>\n",
       "      <td>1.652008</td>\n",
       "    </tr>\n",
       "    <tr>\n",
       "      <th>8</th>\n",
       "      <td>Before its establishment, New Brunswick Theolo...</td>\n",
       "      <td>0.940908</td>\n",
       "    </tr>\n",
       "    <tr>\n",
       "      <th>9</th>\n",
       "      <td>The National War Memorial was officially opene...</td>\n",
       "      <td>1.339482</td>\n",
       "    </tr>\n",
       "    <tr>\n",
       "      <th>10</th>\n",
       "      <td>The Frederick C. Robie House was designated a ...</td>\n",
       "      <td>0.761038</td>\n",
       "    </tr>\n",
       "    <tr>\n",
       "      <th>11</th>\n",
       "      <td>None</td>\n",
       "      <td>2.141193</td>\n",
       "    </tr>\n",
       "    <tr>\n",
       "      <th>12</th>\n",
       "      <td>The Prospect Park Zoo attracts around 300,000 ...</td>\n",
       "      <td>1.444372</td>\n",
       "    </tr>\n",
       "    <tr>\n",
       "      <th>13</th>\n",
       "      <td>None</td>\n",
       "      <td>1.293164</td>\n",
       "    </tr>\n",
       "    <tr>\n",
       "      <th>14</th>\n",
       "      <td>On October 12, 2010, the arena's name changed ...</td>\n",
       "      <td>1.075517</td>\n",
       "    </tr>\n",
       "    <tr>\n",
       "      <th>15</th>\n",
       "      <td>Yes, Václav Havel Library is open to the publi...</td>\n",
       "      <td>0.979992</td>\n",
       "    </tr>\n",
       "    <tr>\n",
       "      <th>16</th>\n",
       "      <td>Yes, the Old Laura Homestead has some beautifu...</td>\n",
       "      <td>1.487727</td>\n",
       "    </tr>\n",
       "    <tr>\n",
       "      <th>17</th>\n",
       "      <td>None</td>\n",
       "      <td>1.408744</td>\n",
       "    </tr>\n",
       "    <tr>\n",
       "      <th>18</th>\n",
       "      <td>Cottage Home Historic District was primarily d...</td>\n",
       "      <td>1.144921</td>\n",
       "    </tr>\n",
       "    <tr>\n",
       "      <th>19</th>\n",
       "      <td>Yes, Oakwood Theme Park has definitely grown o...</td>\n",
       "      <td>2.008246</td>\n",
       "    </tr>\n",
       "  </tbody>\n",
       "</table>\n",
       "</div>"
      ],
      "text/plain": [
       "                                         gen_response  response_time\n",
       "0   Nazareth House has a rich history that reflect...       1.281389\n",
       "1   The Truman Galusha House served as a gathering...       1.123755\n",
       "2   The Marion Palace Theatre is a stunning exampl...       1.342017\n",
       "3   Technische Universität Darmstadt is highly reg...       1.298877\n",
       "4   In addition to St Botolph's Church, you might ...       1.497569\n",
       "5   Oakland University offers a wide range of unde...       1.484201\n",
       "6   The Westin St. Francis is owned by Marriott In...       0.943593\n",
       "7   In addition to the Chaos Crags and Crags Lake ...       1.652008\n",
       "8   Before its establishment, New Brunswick Theolo...       0.940908\n",
       "9   The National War Memorial was officially opene...       1.339482\n",
       "10  The Frederick C. Robie House was designated a ...       0.761038\n",
       "11                                               None       2.141193\n",
       "12  The Prospect Park Zoo attracts around 300,000 ...       1.444372\n",
       "13                                               None       1.293164\n",
       "14  On October 12, 2010, the arena's name changed ...       1.075517\n",
       "15  Yes, Václav Havel Library is open to the publi...       0.979992\n",
       "16  Yes, the Old Laura Homestead has some beautifu...       1.487727\n",
       "17                                               None       1.408744\n",
       "18  Cottage Home Historic District was primarily d...       1.144921\n",
       "19  Yes, Oakwood Theme Park has definitely grown o...       2.008246"
      ]
     },
     "execution_count": 9,
     "metadata": {},
     "output_type": "execute_result"
    }
   ],
   "source": [
    "response_df.head(20)"
   ]
  },
  {
   "cell_type": "code",
   "execution_count": null,
   "metadata": {},
   "outputs": [],
   "source": []
  }
 ],
 "metadata": {
  "kernelspec": {
   "display_name": "persoagent",
   "language": "python",
   "name": "python3"
  },
  "language_info": {
   "codemirror_mode": {
    "name": "ipython",
    "version": 3
   },
   "file_extension": ".py",
   "mimetype": "text/x-python",
   "name": "python",
   "nbconvert_exporter": "python",
   "pygments_lexer": "ipython3",
   "version": "3.11.13"
  }
 },
 "nbformat": 4,
 "nbformat_minor": 2
}
